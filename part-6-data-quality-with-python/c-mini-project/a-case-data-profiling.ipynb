{
 "metadata": {
  "language_info": {
   "codemirror_mode": {
    "name": "ipython",
    "version": 3
   },
   "file_extension": ".py",
   "mimetype": "text/x-python",
   "name": "python",
   "nbconvert_exporter": "python",
   "pygments_lexer": "ipython3",
   "version": "3.8.5"
  },
  "orig_nbformat": 2,
  "kernelspec": {
   "name": "python3",
   "display_name": "Python 3.8.5 64-bit"
  }
 },
 "nbformat": 4,
 "nbformat_minor": 2,
 "cells": [
  {
   "cell_type": "code",
   "execution_count": 7,
   "metadata": {},
   "outputs": [
    {
     "output_type": "stream",
     "name": "stdout",
     "text": [
      "   InvoiceNo                          Description  ...  CustomerID      City\n0     536365   WHITE HANGING HEART T-LIGHT HOLDER  ...       17850  Surabaya\n1     536366                  WHITE METAL LANTERN  ...       17850  Surabaya\n2     536367       CREAM CUPID HEARTS COAT HANGER  ...       17850  Surabaya\n3     536368  KNITTED UNION FLAG HOT WATER BOTTLE  ...       17850   Jakarta\n4     536369       RED WOOLLY HOTTIE WHITE HEART.  ...       17850     Medan\n\n[5 rows x 7 columns]\nInvoiceNo      False\nDescription    False\nQuantity        True\nInvoiceDate    False\nUnitPrice      False\nCustomerID     False\nCity           False\ndtype: bool\nPersentase missing value dari kolom Quantity: 4.0%\n"
     ]
    }
   ],
   "source": [
    "import pandas as pd\n",
    "import numpy as np\n",
    "import io\n",
    "import pandas_profiling\n",
    "\n",
    "uncleaned_raw = pd.read_csv(\"https://storage.googleapis.com/dqlab-dataset/uncleaned_raw.csv\")\n",
    "\n",
    "# Menampikan 5 data teratas\n",
    "print(uncleaned_raw.head())\n",
    "\n",
    "# Check kolom yang mengandung missing value\n",
    "print(uncleaned_raw.isnull().any())\n",
    "\n",
    "# Persentase missing value\n",
    "length_qty = len(uncleaned_raw[\"Quantity\"])\n",
    "count_qty = uncleaned_raw[\"Quantity\"].count()\n",
    "\n",
    "# Mengurangi length dengan count\n",
    "number_of_missing_values_qty = length_qty - count_qty\n",
    "\n",
    "# Mengubah ke dalam bentuk float\n",
    "float_of_missing_values_qty = (number_of_missing_values_qty/length_qty)\n",
    "\n",
    "# Mengubah ke dalam bentuk persen\n",
    "pct_of_missing_values_qty = '{0:.1f}%'.format(float_of_missing_values_qty*100)\n",
    "\n",
    "# Print hasil percent dari missing value\n",
    "print(\"Persentase missing value dari kolom Quantity:\", pct_of_missing_values_qty)\n",
    "\n",
    "# Mengisi missing value tersebut dengan mean dari kolom tersebut\n",
    "uncleaned_raw[\"Quantity\"] = uncleaned_raw[\"Quantity\"].fillna(uncleaned_raw[\"Quantity\"].mean())"
   ]
  },
  {
   "cell_type": "code",
   "execution_count": null,
   "metadata": {},
   "outputs": [],
   "source": []
  }
 ]
}