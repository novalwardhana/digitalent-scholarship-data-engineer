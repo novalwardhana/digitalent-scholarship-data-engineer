{
 "metadata": {
  "language_info": {
   "codemirror_mode": {
    "name": "ipython",
    "version": 3
   },
   "file_extension": ".py",
   "mimetype": "text/x-python",
   "name": "python",
   "nbconvert_exporter": "python",
   "pygments_lexer": "ipython3",
   "version": "3.8.5"
  },
  "orig_nbformat": 2,
  "kernelspec": {
   "name": "python385jvsc74a57bd0916dbcbb3f70747c44a77c7bcd40155683ae19c65e1c03b4aa3499c5328201f1",
   "display_name": "Python 3.8.5 64-bit"
  },
  "metadata": {
   "interpreter": {
    "hash": "916dbcbb3f70747c44a77c7bcd40155683ae19c65e1c03b4aa3499c5328201f1"
   }
  }
 },
 "nbformat": 4,
 "nbformat_minor": 2,
 "cells": [
  {
   "cell_type": "code",
   "execution_count": 6,
   "metadata": {},
   "outputs": [
    {
     "output_type": "stream",
     "name": "stdout",
     "text": [
      "Check column with missing data\norder_id       False\norder_date     False\ncustomer_id    False\ncity            True\nprovince        True\nproduct_id      True\nbrand          False\nquantity        True\nitem_price      True\ndtype: bool \n----------\n\nFilling missing value imputansi\n0       10.0\n1        2.0\n2        8.0\n3        4.0\n4        2.0\n        ... \n4995     2.0\n4996     3.0\n4997     4.0\n4998     8.0\n4999     1.0\nName: quantity, Length: 5000, dtype: float64 \n----------\n\nDrop missing value\n0       10.0\n1        2.0\n2        8.0\n3        4.0\n4        2.0\n        ... \n4995     2.0\n4996     3.0\n4997     4.0\n4998     8.0\n4999     1.0\nName: quantity, Length: 4986, dtype: float64\n"
     ]
    }
   ],
   "source": [
    "import pandas as pd\n",
    "import numpy as np\n",
    "import io\n",
    "import pandas_profiling\n",
    "\n",
    "retail_raw = pd.read_csv(\"https://storage.googleapis.com/dqlab-dataset/retail_raw_reduced_data_quality.csv\")\n",
    "print(\"Check column with missing data\")\n",
    "print(retail_raw.isnull().any(), \"\\n----------\\n\")\n",
    "\n",
    "print(\"Filling missing value imputansi\")\n",
    "print(retail_raw[\"quantity\"].fillna(retail_raw.quantity.mean()), \"\\n----------\\n\")\n",
    "\n",
    "print(\"Drop missing value\")\n",
    "print(retail_raw[\"quantity\"].dropna())"
   ]
  },
  {
   "cell_type": "code",
   "execution_count": null,
   "metadata": {},
   "outputs": [],
   "source": []
  }
 ]
}