{
 "metadata": {
  "language_info": {
   "codemirror_mode": {
    "name": "ipython",
    "version": 3
   },
   "file_extension": ".py",
   "mimetype": "text/x-python",
   "name": "python",
   "nbconvert_exporter": "python",
   "pygments_lexer": "ipython3",
   "version": "3.8.5"
  },
  "orig_nbformat": 2,
  "kernelspec": {
   "name": "python385jvsc74a57bd0916dbcbb3f70747c44a77c7bcd40155683ae19c65e1c03b4aa3499c5328201f1",
   "display_name": "Python 3.8.5 64-bit"
  },
  "metadata": {
   "interpreter": {
    "hash": "916dbcbb3f70747c44a77c7bcd40155683ae19c65e1c03b4aa3499c5328201f1"
   }
  }
 },
 "nbformat": 4,
 "nbformat_minor": 2,
 "cells": [
  {
   "cell_type": "code",
   "execution_count": 6,
   "metadata": {},
   "outputs": [
    {
     "output_type": "stream",
     "name": "stdout",
     "text": [
      "Before: Column null values\norder_id       False\norder_date     False\ncustomer_id    False\ncity            True\nprovince        True\nproduct_id      True\nbrand          False\nquantity        True\nitem_price      True\ndtype: bool \n----------\n\nFill NULL value in colum item_price with mean data\n0       7.400000e+05\n1       6.040000e+05\n2       1.045000e+06\n3       2.050000e+05\n4       9.337427e+05\n            ...     \n4995    4.500000e+05\n4996    1.465000e+06\n4997    7.470000e+05\n4998    6.950000e+05\n4999    1.045000e+06\nName: item_price, Length: 5000, dtype: float64 \n----------\n\n"
     ]
    }
   ],
   "source": [
    "import pandas as pd\n",
    "import numpy as np\n",
    "import io\n",
    "import pandas_profiling\n",
    "\n",
    "retail_raw = pd.read_csv(\"https://storage.googleapis.com/dqlab-dataset/retail_raw_reduced_data_quality.csv\")\n",
    "print(\"Before: Column null values\")\n",
    "print(retail_raw.isnull().any(), \"\\n----------\\n\")    \n",
    "\n",
    "print(\"Fill NULL value in colum item_price with mean data\")\n",
    "print(retail_raw[\"item_price\"].fillna(retail_raw[\"item_price\"].mean()), \"\\n----------\\n\")"
   ]
  },
  {
   "cell_type": "code",
   "execution_count": null,
   "metadata": {},
   "outputs": [],
   "source": []
  }
 ]
}