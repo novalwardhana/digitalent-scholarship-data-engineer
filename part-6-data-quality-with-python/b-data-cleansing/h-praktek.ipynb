{
 "metadata": {
  "language_info": {
   "codemirror_mode": {
    "name": "ipython",
    "version": 3
   },
   "file_extension": ".py",
   "mimetype": "text/x-python",
   "name": "python",
   "nbconvert_exporter": "python",
   "pygments_lexer": "ipython3",
   "version": "3.8.5"
  },
  "orig_nbformat": 2,
  "kernelspec": {
   "name": "python3",
   "display_name": "Python 3.8.5 64-bit"
  }
 },
 "nbformat": 4,
 "nbformat_minor": 2,
 "cells": [
  {
   "cell_type": "code",
   "execution_count": 4,
   "metadata": {},
   "outputs": [
    {
     "output_type": "stream",
     "name": "stdout",
     "text": [
      "0       False\n1       False\n2       False\n3       False\n4       False\n        ...  \n4995    False\n4996    False\n4997    False\n4998    False\n4999    False\nLength: 5000, dtype: bool\nShape awal:  (5000, 9)\nShape akhir:  (4993, 9)\n"
     ]
    }
   ],
   "source": [
    "import pandas as pd\n",
    "import numpy as np\n",
    "import io\n",
    "import pandas_profiling\n",
    "\n",
    "retail_raw = pd.read_csv(\"https://storage.googleapis.com/dqlab-dataset/retail_raw_reduced_data_quality.csv\")\n",
    "print(retail_raw.duplicated(subset=None))\n",
    "\n",
    "# Jumlah data sebelum duplikasi dibuang\n",
    "print(\"Shape awal: \", retail_raw.shape)\n",
    "\n",
    "retail_raw.drop_duplicates(inplace=True)\n",
    "\n",
    "# Jumlah data setelah duplikasi dibuang\n",
    "print(\"Shape akhir: \", retail_raw.shape)"
   ]
  },
  {
   "cell_type": "code",
   "execution_count": null,
   "metadata": {},
   "outputs": [],
   "source": []
  }
 ]
}