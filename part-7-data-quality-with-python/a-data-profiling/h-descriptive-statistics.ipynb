{
 "metadata": {
  "language_info": {
   "codemirror_mode": {
    "name": "ipython",
    "version": 3
   },
   "file_extension": ".py",
   "mimetype": "text/x-python",
   "name": "python",
   "nbconvert_exporter": "python",
   "pygments_lexer": "ipython3",
   "version": "3.8.5"
  },
  "orig_nbformat": 2,
  "kernelspec": {
   "name": "python385jvsc74a57bd0916dbcbb3f70747c44a77c7bcd40155683ae19c65e1c03b4aa3499c5328201f1",
   "display_name": "Python 3.8.5 64-bit"
  },
  "metadata": {
   "interpreter": {
    "hash": "916dbcbb3f70747c44a77c7bcd40155683ae19c65e1c03b4aa3499c5328201f1"
   }
  }
 },
 "nbformat": 4,
 "nbformat_minor": 2,
 "cells": [
  {
   "cell_type": "code",
   "execution_count": 5,
   "metadata": {},
   "outputs": [
    {
     "output_type": "stream",
     "name": "stdout",
     "text": [
      "Quantity quantile:\n0.25     2.0\n0.50     5.0\n0.75    12.0\nName: quantity, dtype: float64 \n----------\n\nItem Price quantile\n0.25     450000.0\n0.50     604000.0\n0.75    1045000.0\nName: item_price, dtype: float64\n"
     ]
    }
   ],
   "source": [
    "import pandas as pd\n",
    "import numpy as np\n",
    "import io\n",
    "import pandas_profiling\n",
    "\n",
    "retail_raw = pd.read_csv(\"https://storage.googleapis.com/dqlab-dataset/retail_raw_reduced_data_quality.csv\")\n",
    "print(\"Quantity quantile:\")\n",
    "print(retail_raw[\"quantity\"].quantile([0.25, 0.5, 0.75]), \"\\n----------\\n\")\n",
    "\n",
    "print(\"Item Price quantile\")\n",
    "print(retail_raw[\"item_price\"].quantile([0.25, 0.5, 0.75]))"
   ]
  },
  {
   "cell_type": "code",
   "execution_count": null,
   "metadata": {},
   "outputs": [],
   "source": []
  }
 ]
}