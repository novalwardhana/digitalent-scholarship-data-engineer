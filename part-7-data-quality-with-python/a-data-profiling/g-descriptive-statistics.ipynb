{
 "metadata": {
  "language_info": {
   "codemirror_mode": {
    "name": "ipython",
    "version": 3
   },
   "file_extension": ".py",
   "mimetype": "text/x-python",
   "name": "python",
   "nbconvert_exporter": "python",
   "pygments_lexer": "ipython3",
   "version": "3.8.5"
  },
  "orig_nbformat": 2,
  "kernelspec": {
   "name": "python385jvsc74a57bd0916dbcbb3f70747c44a77c7bcd40155683ae19c65e1c03b4aa3499c5328201f1",
   "display_name": "Python 3.8.5 64-bit"
  },
  "metadata": {
   "interpreter": {
    "hash": "916dbcbb3f70747c44a77c7bcd40155683ae19c65e1c03b4aa3499c5328201f1"
   }
  }
 },
 "nbformat": 4,
 "nbformat_minor": 2,
 "cells": [
  {
   "cell_type": "code",
   "execution_count": 11,
   "metadata": {},
   "outputs": [
    {
     "output_type": "stream",
     "name": "stdout",
     "text": [
      "Kolom quantity\nMinimum value:  1.0\nMaximum value:  720.0\nMean value:  11.423987164059366\nMode value:  0    1.0\ndtype: float64\nMedian value:  5.0\nStandard Deviation value:  29.442025010811317 \n----------\n\nKolom item_price\nMinimum value:  26000.0\nMaximum value:  29762000.0\nMean value:  933742.7311008623\nMode value:  0    590000.0\ndtype: float64\nMedian value:  604000.0\nStandard Deviation value:  29.442025010811317 \n----------\n\n"
     ]
    }
   ],
   "source": [
    "import pandas as pd\n",
    "import numpy as np\n",
    "import io\n",
    "import pandas_profiling\n",
    "\n",
    "retail_raw = pd.read_csv(\"https://storage.googleapis.com/dqlab-dataset/retail_raw_reduced_data_quality.csv\")\n",
    "print(\"Kolom quantity\")\n",
    "print(\"Minimum value: \", retail_raw[\"quantity\"].min())\n",
    "print(\"Maximum value: \", retail_raw[\"quantity\"].max())\n",
    "print(\"Mean value: \", retail_raw[\"quantity\"].mean())\n",
    "print(\"Mode value: \", retail_raw[\"quantity\"].mode())\n",
    "print(\"Median value: \", retail_raw[\"quantity\"].median())\n",
    "print(\"Standard Deviation value: \", retail_raw[\"quantity\"].std(), \"\\n----------\\n\")\n",
    "\n",
    "print(\"Kolom item_price\")\n",
    "print(\"Minimum value: \", retail_raw[\"item_price\"].min())\n",
    "print(\"Maximum value: \", retail_raw[\"item_price\"].max())\n",
    "print(\"Mean value: \", retail_raw[\"item_price\"].mean())\n",
    "print(\"Mode value: \", retail_raw[\"item_price\"].mode())\n",
    "print(\"Median value: \", retail_raw[\"item_price\"].median())\n",
    "print(\"Standard Deviation value: \", retail_raw[\"quantity\"].std(), \"\\n----------\\n\")"
   ]
  },
  {
   "cell_type": "code",
   "execution_count": null,
   "metadata": {},
   "outputs": [],
   "source": []
  }
 ]
}