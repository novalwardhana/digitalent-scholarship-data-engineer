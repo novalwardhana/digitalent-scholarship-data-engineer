{
 "metadata": {
  "language_info": {
   "codemirror_mode": {
    "name": "ipython",
    "version": 3
   },
   "file_extension": ".py",
   "mimetype": "text/x-python",
   "name": "python",
   "nbconvert_exporter": "python",
   "pygments_lexer": "ipython3",
   "version": "3.8.5"
  },
  "orig_nbformat": 2,
  "kernelspec": {
   "name": "python385jvsc74a57bd0916dbcbb3f70747c44a77c7bcd40155683ae19c65e1c03b4aa3499c5328201f1",
   "display_name": "Python 3.8.5 64-bit"
  },
  "metadata": {
   "interpreter": {
    "hash": "916dbcbb3f70747c44a77c7bcd40155683ae19c65e1c03b4aa3499c5328201f1"
   }
  }
 },
 "nbformat": 4,
 "nbformat_minor": 2,
 "cells": [
  {
   "cell_type": "code",
   "execution_count": 13,
   "metadata": {},
   "outputs": [
    {
     "output_type": "stream",
     "name": "stdout",
     "text": [
      "Persentase missing value kolom city: 0.3%\nPersentase missing value kolom product_id: 0.2%\n"
     ]
    }
   ],
   "source": [
    "import pandas as pd\n",
    "import numpy as np\n",
    "import io\n",
    "import pandas_profiling\n",
    "\n",
    "retail_raw = pd.read_csv('https://storage.googleapis.com/dqlab-dataset/retail_raw_reduced_data_quality.csv')\n",
    "\n",
    "length_city = len(retail_raw['city'])\n",
    "count_city = retail_raw['city'].count()\n",
    "number_of_missing_values_city = length_city - count_city\n",
    "float_of_missing_values_city = float(number_of_missing_values_city/length_city)\n",
    "pct_of_missing_values_city = '{0:.1f}%'.format(float_of_missing_values_city * 100)\n",
    "print(\"Persentase missing value kolom city:\", pct_of_missing_values_city)\n",
    "\n",
    "length_product_id = len(retail_raw['product_id'])\n",
    "count_product_id = retail_raw['product_id'].count()\n",
    "number_of_missing_values_product_id = length_product_id - count_product_id\n",
    "float_of_missing_values_product_id = float(number_of_missing_values_product_id/length_product_id)\n",
    "pct_of_missing_values_product_id = '{0:.1f}%'.format(float_of_missing_values_product_id * 100)\n",
    "print(\"Persentase missing value kolom product_id:\", pct_of_missing_values_product_id)"
   ]
  },
  {
   "cell_type": "code",
   "execution_count": null,
   "metadata": {},
   "outputs": [],
   "source": []
  }
 ]
}