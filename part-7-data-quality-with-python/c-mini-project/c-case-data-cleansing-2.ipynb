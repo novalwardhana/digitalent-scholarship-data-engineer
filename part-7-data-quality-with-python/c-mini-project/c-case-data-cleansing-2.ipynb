{
 "metadata": {
  "language_info": {
   "codemirror_mode": {
    "name": "ipython",
    "version": 3
   },
   "file_extension": ".py",
   "mimetype": "text/x-python",
   "name": "python",
   "nbconvert_exporter": "python",
   "pygments_lexer": "ipython3",
   "version": "3.8.5"
  },
  "orig_nbformat": 2,
  "kernelspec": {
   "name": "python3",
   "display_name": "Python 3.8.5 64-bit"
  }
 },
 "nbformat": 4,
 "nbformat_minor": 2,
 "cells": [
  {
   "cell_type": "code",
   "execution_count": 4,
   "metadata": {},
   "outputs": [
    {
     "output_type": "stream",
     "name": "stdout",
     "text": [
      "0      False\n1      False\n2      False\n3      False\n4      False\n       ...  \n500     True\n501     True\n502     True\n503     True\n504     True\nLength: 502, dtype: bool\n     InvoiceNo                          Description  ...  CustomerID      City\n0       536365   WHITE HANGING HEART T-LIGHT HOLDER  ...       17850  Surabaya\n1       536366                  WHITE METAL LANTERN  ...       17850  Surabaya\n2       536367       CREAM CUPID HEARTS COAT HANGER  ...       17850  Surabaya\n3       536368  KNITTED UNION FLAG HOT WATER BOTTLE  ...       17850   Jakarta\n4       536369       RED WOOLLY HOTTIE WHITE HEART.  ...       17850     Medan\n..         ...                                  ...  ...         ...       ...\n494     536859          UNION JACK FLAG LUGGAGE TAG  ...       17908     Medan\n495     536860                RED HEART LUGGAGE TAG  ...       17908     Medan\n496     536861           RED GLASS TASSLE BAG CHARM  ...       17908   Jakarta\n497     536862         CLEAR ACRYLIC FACETED BANGLE  ...       17908   Jakarta\n498     536863      5 STRAND GLASS NECKLACE CRYSTAL  ...       17908     Medan\n\n[496 rows x 7 columns]\n"
     ]
    }
   ],
   "source": [
    "import pandas as pd\n",
    "import numpy as np\n",
    "import io\n",
    "import pandas_profiling\n",
    "import matplotlib.pyplot as plt\n",
    "\n",
    "uncleared_raw = pd.read_csv(\"https://storage.googleapis.com/dqlab-dataset/uncleaned_raw.csv\")\n",
    "\n",
    "# Check IQR\n",
    "Q1 = uncleared_raw[\"UnitPrice\"].quantile(0.25)\n",
    "Q3 = uncleared_raw[\"UnitPrice\"].quantile(0.75)\n",
    "IQR = Q3 - Q1\n",
    "\n",
    "# Removing outliners\n",
    "uncleared_raw = uncleared_raw[~((uncleared_raw[\"UnitPrice\"] < (Q1 - 1.5 * IQR)) | (uncleared_raw[\"UnitPrice\"] > (Q3 + 1.5 * IQR)))]\n",
    "\n",
    "# Check for duplication\n",
    "print(uncleared_raw.duplicated(subset=None))\n",
    "\n",
    "# Remove duplication\n",
    "print(uncleared_raw.drop_duplicates())\n"
   ]
  },
  {
   "cell_type": "code",
   "execution_count": null,
   "metadata": {},
   "outputs": [],
   "source": []
  }
 ]
}