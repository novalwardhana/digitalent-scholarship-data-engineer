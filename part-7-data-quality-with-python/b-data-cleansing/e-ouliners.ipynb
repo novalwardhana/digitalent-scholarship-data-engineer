{
 "metadata": {
  "language_info": {
   "codemirror_mode": {
    "name": "ipython",
    "version": 3
   },
   "file_extension": ".py",
   "mimetype": "text/x-python",
   "name": "python",
   "nbconvert_exporter": "python",
   "pygments_lexer": "ipython3",
   "version": "3.8.5"
  },
  "orig_nbformat": 2,
  "kernelspec": {
   "name": "python3",
   "display_name": "Python 3.8.5 64-bit"
  }
 },
 "nbformat": 4,
 "nbformat_minor": 2,
 "cells": [
  {
   "cell_type": "code",
   "execution_count": 5,
   "metadata": {},
   "outputs": [
    {
     "output_type": "stream",
     "name": "stdout",
     "text": [
      "Shape awal:  (5000, 9)\nShape akhir:  (4699, 9)\n"
     ]
    }
   ],
   "source": [
    "import pandas as pd\n",
    "import numpy as np\n",
    "import io\n",
    "import pandas_profiling\n",
    "\n",
    "retail_raw = pd.read_csv(\"https://storage.googleapis.com/dqlab-dataset/retail_raw_reduced_data_quality.csv\")\n",
    "\n",
    "Q1 = retail_raw[\"quantity\"].quantile(0.25)\n",
    "Q3 = retail_raw[\"quantity\"].quantile(0.75)\n",
    "IQR = Q3 - Q1\n",
    "\n",
    "# Sebelum data yang memiliki outliners dibuang\n",
    "print(\"Shape awal: \", retail_raw.shape)\n",
    "\n",
    "retail_raw = retail_raw[~((retail_raw[\"quantity\"] < (Q1 - 1.5 * IQR)) | (retail_raw[\"quantity\"] > (Q3 + 1.5 * IQR)))]\n",
    "\n",
    "# Setelah data yang memiliki outliners dibuang\n",
    "print(\"Shape akhir: \", retail_raw.shape)"
   ]
  },
  {
   "cell_type": "code",
   "execution_count": null,
   "metadata": {},
   "outputs": [],
   "source": []
  }
 ]
}