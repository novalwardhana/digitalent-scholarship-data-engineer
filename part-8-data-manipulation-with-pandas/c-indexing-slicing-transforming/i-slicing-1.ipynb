{
 "metadata": {
  "language_info": {
   "codemirror_mode": {
    "name": "ipython",
    "version": 3
   },
   "file_extension": ".py",
   "mimetype": "text/x-python",
   "name": "python",
   "nbconvert_exporter": "python",
   "pygments_lexer": "ipython3",
   "version": "3.8.5"
  },
  "orig_nbformat": 2,
  "kernelspec": {
   "name": "python3",
   "display_name": "Python 3.8.5 64-bit"
  }
 },
 "nbformat": 4,
 "nbformat_minor": 2,
 "cells": [
  {
   "cell_type": "code",
   "execution_count": 2,
   "metadata": {},
   "outputs": [
    {
     "output_type": "stream",
     "name": "stdout",
     "text": [
      "Dataframe: \n      order_id  order_date  customer_id             city          province  \\\n0     1612339  2019-01-01        18055  Jakarta Selatan       DKI Jakarta   \n1     1612339  2019-01-01        18055  Jakarta Selatan       DKI Jakarta   \n2     1612339  2019-01-01        18055  Jakarta Selatan       DKI Jakarta   \n3     1612339  2019-01-01        18055  Jakarta Selatan       DKI Jakarta   \n4     1612339  2019-01-01        18055  Jakarta Selatan       DKI Jakarta   \n..        ...         ...          ...              ...               ...   \n96    1612390  2019-01-01        12681         Makassar  Sulawesi Selatan   \n97    1612390  2019-01-01        12681         Makassar  Sulawesi Selatan   \n98    1612390  2019-01-01        12681         Makassar  Sulawesi Selatan   \n99    1612390  2019-01-01        12681         Makassar  Sulawesi Selatan   \n100   1612390  2019-01-01        12681         Makassar  Sulawesi Selatan   \n\n    product_id    brand  quantity  item_price  \n0        P0648  BRAND_C         4     1934000  \n1        P3826  BRAND_V         8      604000  \n2        P1508  BRAND_G        12      747000  \n3        P0520  BRAND_B        12      450000  \n4        P1513  BRAND_G         3     1500000  \n..         ...      ...       ...         ...  \n96       P3388  BRAND_S        10      450000  \n97       P3082  BRAND_R        18     1045000  \n98       P3354  BRAND_S        24      450000  \n99       P3357  BRAND_S        24      450000  \n100      P0422  BRAND_B         4     1325000  \n\n[101 rows x 9 columns] \n\nDataframe after slicing: \n Empty DataFrame\nColumns: [order_id, order_date, customer_id, city, province, product_id, brand, quantity, item_price]\nIndex: []\n"
     ]
    }
   ],
   "source": [
    "import pandas as pd\n",
    "\n",
    "df = pd.read_csv(\"https://storage.googleapis.com/dqlab-dataset/sample_csv.csv\")\n",
    "print(\"Dataframe: \\n\", df, \"\\n\")\n",
    "\n",
    "# Slicing dataframe\n",
    "df_slicing = df.loc[\n",
    "    (df[\"customer_id\"] == \"18055\") &\n",
    "    (df[\"customer_id\"].isin([\"P0029\", \"P0040\", \"P0041\", \"P0116\", \"P0117\"]))\n",
    "]\n",
    "print(\"Dataframe after slicing: \\n\", df_slicing)"
   ]
  },
  {
   "cell_type": "code",
   "execution_count": 8,
   "metadata": {},
   "outputs": [
    {
     "output_type": "stream",
     "name": "stdout",
     "text": [
      "Dataframe: \n    order_id  order_date  customer_id             city     province product_id  \\\n0   1612339  2019-01-01        18055  Jakarta Selatan  DKI Jakarta      P0648   \n1   1612339  2019-01-01        18055  Jakarta Selatan  DKI Jakarta      P3826   \n2   1612339  2019-01-01        18055  Jakarta Selatan  DKI Jakarta      P1508   \n3   1612339  2019-01-01        18055  Jakarta Selatan  DKI Jakarta      P0520   \n4   1612339  2019-01-01        18055  Jakarta Selatan  DKI Jakarta      P1513   \n5   1612339  2019-01-01        18055  Jakarta Selatan  DKI Jakarta      P3911   \n6   1612339  2019-01-01        18055  Jakarta Selatan  DKI Jakarta      P1780   \n7   1612339  2019-01-01        18055  Jakarta Selatan  DKI Jakarta      P3132   \n8   1612339  2019-01-01        18055  Jakarta Selatan  DKI Jakarta      P1342   \n9   1612339  2019-01-01        18055  Jakarta Selatan  DKI Jakarta      P2556   \n\n     brand  quantity  item_price  \n0  BRAND_C         4     1934000  \n1  BRAND_V         8      604000  \n2  BRAND_G        12      747000  \n3  BRAND_B        12      450000  \n4  BRAND_G         3     1500000  \n5  BRAND_V         3     2095000  \n6  BRAND_H         3     2095000  \n7  BRAND_S         3     1745000  \n8  BRAND_F         6     1045000  \n9  BRAND_P         6     1045000   \n\nDataframe after slicing: \n    order_id  order_date  customer_id             city     province product_id  \\\n0   1612339  2019-01-01        18055  Jakarta Selatan  DKI Jakarta      P0648   \n\n     brand  quantity  item_price  \n0  BRAND_C         4     1934000  \n"
     ]
    }
   ],
   "source": [
    "import pandas as pd\n",
    "\n",
    "df = pd.read_csv(\"https://storage.googleapis.com/dqlab-dataset/sample_csv.csv\")\n",
    "print(\"Dataframe: \\n\", df.head(10), \"\\n\")\n",
    "\n",
    "# Slicing dataframe\n",
    "df_slicing = df.loc[\n",
    "    (df[\"city\"] == \"Jakarta Selatan\") &\n",
    "    (df[\"product_id\"] == \"P0648\")\n",
    "]\n",
    "print(\"Dataframe after slicing: \\n\", df_slicing)\n"
   ]
  },
  {
   "cell_type": "code",
   "execution_count": null,
   "metadata": {},
   "outputs": [],
   "source": []
  }
 ]
}