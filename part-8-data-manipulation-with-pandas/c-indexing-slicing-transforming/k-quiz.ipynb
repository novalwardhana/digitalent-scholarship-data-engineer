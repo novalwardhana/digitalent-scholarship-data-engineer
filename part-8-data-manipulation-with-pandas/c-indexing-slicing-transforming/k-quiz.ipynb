{
 "metadata": {
  "language_info": {
   "codemirror_mode": {
    "name": "ipython",
    "version": 3
   },
   "file_extension": ".py",
   "mimetype": "text/x-python",
   "name": "python",
   "nbconvert_exporter": "python",
   "pygments_lexer": "ipython3",
   "version": "3.8.5"
  },
  "orig_nbformat": 2,
  "kernelspec": {
   "name": "python3",
   "display_name": "Python 3.8.5 64-bit"
  }
 },
 "nbformat": 4,
 "nbformat_minor": 2,
 "cells": [
  {
   "cell_type": "code",
   "execution_count": 4,
   "metadata": {},
   "outputs": [
    {
     "output_type": "stream",
     "name": "stdout",
     "text": [
      "                             order_id  order_date  ...  quantity item_price\nprovince         product_id                        ...                     \nSulawesi Selatan P3082        1612390  2019-01-01  ...        18    1045000\n                 P3354        1612390  2019-01-01  ...        24     450000\n                 P3357        1612390  2019-01-01  ...        24     450000\n\n[3 rows x 7 columns]\n"
     ]
    }
   ],
   "source": [
    "import pandas as pd\n",
    "\n",
    "data_sample = pd.read_csv(\"https://storage.googleapis.com/dqlab-dataset/sample_csv.csv\")\n",
    "data_sample = data_sample.set_index([\"province\", \"product_id\"])\n",
    "idx = pd.IndexSlice\n",
    "\n",
    "# Filter province = 'Sulawesi Selatan' dan product_id dari 'P3082' sampai 'P3357'\n",
    "print(data_sample.sort_index().loc[idx[\"Sulawesi Selatan\",\"P3082\":\"P3357\"],:])"
   ]
  },
  {
   "cell_type": "code",
   "execution_count": null,
   "metadata": {},
   "outputs": [],
   "source": []
  }
 ]
}