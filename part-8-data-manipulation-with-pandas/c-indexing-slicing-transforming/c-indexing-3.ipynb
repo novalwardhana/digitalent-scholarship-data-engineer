{
 "metadata": {
  "language_info": {
   "codemirror_mode": {
    "name": "ipython",
    "version": 3
   },
   "file_extension": ".py",
   "mimetype": "text/x-python",
   "name": "python",
   "nbconvert_exporter": "python",
   "pygments_lexer": "ipython3",
   "version": "3.8.5"
  },
  "orig_nbformat": 2,
  "kernelspec": {
   "name": "python3",
   "display_name": "Python 3.8.5 64-bit"
  }
 },
 "nbformat": 4,
 "nbformat_minor": 2,
 "cells": [
  {
   "cell_type": "code",
   "execution_count": 12,
   "metadata": {},
   "outputs": [
    {
     "output_type": "stream",
     "name": "stdout",
     "text": [
      "                                        order_id  ... item_price\norder_date city            customer_id            ...           \n2019-01-01 Jakarta Selatan 18055         1612339  ...    1934000\n                           18055         1612339  ...     604000\n                           18055         1612339  ...     747000\n                           18055         1612339  ...     450000\n                           18055         1612339  ...    1500000\n...                                          ...  ...        ...\n           Makassar        12681         1612390  ...     450000\n                           12681         1612390  ...    1045000\n                           12681         1612390  ...     450000\n                           12681         1612390  ...     450000\n                           12681         1612390  ...    1325000\n\n[101 rows x 6 columns]\norder_date : Index(['2019-01-01'], dtype='object', name='order_date')\ncity : Index(['Bogor', 'Jakarta Pusat', 'Jakarta Selatan', 'Jakarta Utara',\n       'Makassar', 'Malang', 'Surabaya', 'Tangerang'],\n      dtype='object', name='city')\ncustomer_id : Int64Index([12681, 13963, 15649, 17091, 17228, 17450, 17470, 17511, 17616,\n            18055],\n           dtype='int64', name='customer_id')\n"
     ]
    }
   ],
   "source": [
    "import pandas as pd\n",
    "\n",
    "df = pd.read_csv(\"https://storage.googleapis.com/dqlab-dataset/sample_tsv.tsv\", sep=\"\\t\")\n",
    "\n",
    "# Set multi index\n",
    "df_x = df.set_index([\"order_date\", \"city\", \"customer_id\"])\n",
    "print(df_x)\n",
    "\n",
    "# Print nama dan level dari multi index\n",
    "for name, level in zip(df_x.index.names, df_x.index.levels):\n",
    "    print(name, \":\", level)"
   ]
  },
  {
   "cell_type": "code",
   "execution_count": 13,
   "metadata": {},
   "outputs": [
    {
     "output_type": "stream",
     "name": "stdout",
     "text": [
      "Dataframe index by province and brand\n                           order_id  order_date  ...  quantity item_price\nprovince         brand                          ...                     \nDKI Jakarta      BRAND_C   1612339  2019-01-01  ...         4    1934000\n                 BRAND_V   1612339  2019-01-01  ...         8     604000\n                 BRAND_G   1612339  2019-01-01  ...        12     747000\n                 BRAND_B   1612339  2019-01-01  ...        12     450000\n                 BRAND_G   1612339  2019-01-01  ...         3    1500000\n...                            ...         ...  ...       ...        ...\nSulawesi Selatan BRAND_S   1612390  2019-01-01  ...        10     450000\n                 BRAND_R   1612390  2019-01-01  ...        18    1045000\n                 BRAND_S   1612390  2019-01-01  ...        24     450000\n                 BRAND_S   1612390  2019-01-01  ...        24     450000\n                 BRAND_B   1612390  2019-01-01  ...         4    1325000\n\n[101 rows x 7 columns]\nprovince : Index(['Banten', 'DKI Jakarta', 'Jawa Barat', 'Jawa Timur',\n       'Sulawesi Selatan'],\n      dtype='object', name='province')\nbrand : Index(['BRAND_A', 'BRAND_B', 'BRAND_C', 'BRAND_D', 'BRAND_E', 'BRAND_F',\n       'BRAND_G', 'BRAND_H', 'BRAND_I', 'BRAND_J', 'BRAND_K', 'BRAND_L',\n       'BRAND_M', 'BRAND_N', 'BRAND_P', 'BRAND_R', 'BRAND_S', 'BRAND_V',\n       'BRAND_W'],\n      dtype='object', name='brand')\n"
     ]
    }
   ],
   "source": [
    "import pandas as pd\n",
    "\n",
    "df = pd.read_csv(\"https://storage.googleapis.com/dqlab-dataset/sample_tsv.tsv\", sep=\"\\t\")\n",
    "\n",
    "# Set index\n",
    "df_x = df.set_index([\"province\", \"brand\"])\n",
    "print(\"Dataframe index by province and brand\\n\", df_x)\n",
    "\n",
    "# Print nama dan level dari multi index\n",
    "for name, level in zip(df_x.index.names, df_x.index.levels):\n",
    "    print(name, \":\", level)"
   ]
  },
  {
   "cell_type": "code",
   "execution_count": null,
   "metadata": {},
   "outputs": [],
   "source": []
  }
 ]
}