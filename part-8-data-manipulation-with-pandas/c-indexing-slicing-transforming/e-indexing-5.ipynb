{
 "metadata": {
  "language_info": {
   "codemirror_mode": {
    "name": "ipython",
    "version": 3
   },
   "file_extension": ".py",
   "mimetype": "text/x-python",
   "name": "python",
   "nbconvert_exporter": "python",
   "pygments_lexer": "ipython3",
   "version": "3.8.5"
  },
  "orig_nbformat": 2,
  "kernelspec": {
   "name": "python3",
   "display_name": "Python 3.8.5 64-bit"
  }
 },
 "nbformat": 4,
 "nbformat_minor": 2,
 "cells": [
  {
   "cell_type": "code",
   "execution_count": 1,
   "metadata": {},
   "outputs": [
    {
     "output_type": "stream",
     "name": "stdout",
     "text": [
      "Dataframe: \n                      customer_id             city  ... quantity item_price\norder_date order_id                                ...                    \n2019-01-01 1612339         18055  Jakarta Selatan  ...        4    1934000\n           1612339         18055  Jakarta Selatan  ...        8     604000\n           1612339         18055  Jakarta Selatan  ...       12     747000\n           1612339         18055  Jakarta Selatan  ...       12     450000\n           1612339         18055  Jakarta Selatan  ...        3    1500000\n           1612339         18055  Jakarta Selatan  ...        3    2095000\n           1612339         18055  Jakarta Selatan  ...        3    2095000\n           1612339         18055  Jakarta Selatan  ...        3    1745000\n\n[8 rows x 7 columns]\n"
     ]
    }
   ],
   "source": [
    "import pandas as pd\n",
    "\n",
    "# Set index saat read data tsv\n",
    "df = pd.read_csv(\"https://storage.googleapis.com/dqlab-dataset/sample_tsv.tsv\", sep=\"\\t\", index_col=[\"order_date\", \"order_id\"])\n",
    "\n",
    "print(\"Dataframe: \\n\", df.head(8))"
   ]
  },
  {
   "cell_type": "code",
   "execution_count": 4,
   "metadata": {},
   "outputs": [
    {
     "output_type": "stream",
     "name": "stdout",
     "text": [
      "Dataframe: \n                  order_id  order_date  ...  quantity item_price\ncity                                   ...                     \nJakarta Selatan   1612339  2019-01-01  ...         4    1934000\nJakarta Selatan   1612339  2019-01-01  ...         8     604000\nJakarta Selatan   1612339  2019-01-01  ...        12     747000\nJakarta Selatan   1612339  2019-01-01  ...        12     450000\nJakarta Selatan   1612339  2019-01-01  ...         3    1500000\n...                   ...         ...  ...       ...        ...\nMakassar          1612390  2019-01-01  ...        10     450000\nMakassar          1612390  2019-01-01  ...        18    1045000\nMakassar          1612390  2019-01-01  ...        24     450000\nMakassar          1612390  2019-01-01  ...        24     450000\nMakassar          1612390  2019-01-01  ...         4    1325000\n\n[101 rows x 8 columns]\n"
     ]
    }
   ],
   "source": [
    "import pandas as pd\n",
    "\n",
    "df = pd.read_csv(\"https://storage.googleapis.com/dqlab-dataset/sample_tsv.tsv\", sep=\"\\t\", index_col=[\"city\"])\n",
    "\n",
    "print(\"Dataframe: \\n\", df)"
   ]
  },
  {
   "cell_type": "code",
   "execution_count": 7,
   "metadata": {},
   "outputs": [
    {
     "output_type": "stream",
     "name": "stdout",
     "text": [
      "Dataframe: \n                                            order_date  ...  item_price\nprovince         city            order_id              ...            \nDKI Jakarta      Jakarta Selatan 1612339   2019-01-01  ...     1934000\n                                 1612339   2019-01-01  ...      604000\n                                 1612339   2019-01-01  ...      747000\n                                 1612339   2019-01-01  ...      450000\n                                 1612339   2019-01-01  ...     1500000\n...                                               ...  ...         ...\nSulawesi Selatan Makassar        1612390   2019-01-01  ...      450000\n                                 1612390   2019-01-01  ...     1045000\n                                 1612390   2019-01-01  ...      450000\n                                 1612390   2019-01-01  ...      450000\n                                 1612390   2019-01-01  ...     1325000\n\n[101 rows x 6 columns]\n"
     ]
    }
   ],
   "source": [
    "import pandas as pd\n",
    "\n",
    "df = pd.read_csv(\"https://storage.googleapis.com/dqlab-dataset/sample_tsv.tsv\", sep=\"\\t\", index_col=[\"province\", \"city\", \"order_id\"])\n",
    "\n",
    "print(\"Dataframe: \\n\", df.head(200))"
   ]
  },
  {
   "cell_type": "code",
   "execution_count": null,
   "metadata": {},
   "outputs": [],
   "source": []
  }
 ]
}