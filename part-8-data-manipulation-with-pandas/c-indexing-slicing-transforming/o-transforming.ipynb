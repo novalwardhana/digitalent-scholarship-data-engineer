{
 "metadata": {
  "language_info": {
   "codemirror_mode": {
    "name": "ipython",
    "version": 3
   },
   "file_extension": ".py",
   "mimetype": "text/x-python",
   "name": "python",
   "nbconvert_exporter": "python",
   "pygments_lexer": "ipython3",
   "version": "3.8.5"
  },
  "orig_nbformat": 2,
  "kernelspec": {
   "name": "python3",
   "display_name": "Python 3.8.5 64-bit"
  }
 },
 "nbformat": 4,
 "nbformat_minor": 2,
 "cells": [
  {
   "cell_type": "code",
   "execution_count": 10,
   "metadata": {},
   "outputs": [
    {
     "output_type": "stream",
     "name": "stdout",
     "text": [
      "Kolom brand awal:\n 0    BRAND_C\n1    BRAND_V\n2    BRAND_G\n3    BRAND_B\n4    BRAND_G\n5    BRAND_V\n6    BRAND_H\n7    BRAND_S\n8    BRAND_F\n9    BRAND_P\nName: brand, dtype: object\nKolom brand setelah di lower case: \n 0    brand_c\n1    brand_v\n2    brand_g\n3    brand_b\n4    brand_g\n5    brand_v\n6    brand_h\n7    brand_s\n8    brand_f\n9    brand_p\nName: brand, dtype: object\n\n---------------\n\n0    c\n1    v\n2    g\n3    b\n4    g\n5    v\n6    h\n7    s\n8    f\n9    p\nName: brand, dtype: object\n"
     ]
    }
   ],
   "source": [
    "import pandas as pd \n",
    "\n",
    "df = pd.read_csv(\"https://storage.googleapis.com/dqlab-dataset/sample_csv.csv\")\n",
    "\n",
    "# Dapat bekerja pada Pandas Series dan DataFrame. Jadi kita bisa melakukan transformasi data lebih dari satu kolom\n",
    "print(\"Kolom brand awal:\\n\",df[\"brand\"].head(10))\n",
    "df[\"brand\"] = df[\"brand\"].apply(lambda x: x.lower())\n",
    "print(\"Kolom brand setelah di lower case: \\n\", df[\"brand\"].head(10))\n",
    "\n",
    "print(\"\\n---------------\\n\")\n",
    "# Hanya bekerja pada Pandas Series. Jadi kita hanya bisa melakukan transformasi data untuk satu kolom saja\n",
    "df[\"brand\"] = df[\"brand\"].map(lambda x: x[-1])\n",
    "print(df[\"brand\"].head(10))\n",
    "\n"
   ]
  },
  {
   "cell_type": "code",
   "execution_count": null,
   "metadata": {},
   "outputs": [],
   "source": []
  }
 ]
}