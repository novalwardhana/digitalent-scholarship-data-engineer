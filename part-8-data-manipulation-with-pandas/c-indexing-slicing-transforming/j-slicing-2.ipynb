{
 "metadata": {
  "language_info": {
   "codemirror_mode": {
    "name": "ipython",
    "version": 3
   },
   "file_extension": ".py",
   "mimetype": "text/x-python",
   "name": "python",
   "nbconvert_exporter": "python",
   "pygments_lexer": "ipython3",
   "version": "3.8.5"
  },
  "orig_nbformat": 2,
  "kernelspec": {
   "name": "python3",
   "display_name": "Python 3.8.5 64-bit"
  }
 },
 "nbformat": 4,
 "nbformat_minor": 2,
 "cells": [
  {
   "cell_type": "code",
   "execution_count": 7,
   "metadata": {},
   "outputs": [
    {
     "output_type": "stream",
     "name": "stdout",
     "text": [
      "Dataframe: \n                                 customer_id  ... item_price\norder_date order_id product_id               ...           \n2019-01-01 1612339  P0648             18055  ...    1934000\n                    P3826             18055  ...     604000\n                    P1508             18055  ...     747000\n                    P0520             18055  ...     450000\n                    P1513             18055  ...    1500000\n...                                     ...  ...        ...\n           1612390  P3388             12681  ...     450000\n                    P3082             12681  ...    1045000\n                    P3354             12681  ...     450000\n                    P3357             12681  ...     450000\n                    P0422             12681  ...    1325000\n\n[101 rows x 6 columns]\nDataframe: \n                                 customer_id  ... item_price\norder_date order_id product_id               ...           \n2019-01-01 1612339  P2154             18055  ...    1745000\n                    P2159             18055  ...     310000\n\n[2 rows x 6 columns]\n"
     ]
    }
   ],
   "source": [
    "import pandas as pd\n",
    "\n",
    "df = pd.read_csv(\"https://storage.googleapis.com/dqlab-dataset/sample_csv.csv\")\n",
    "df = df.set_index([\"order_date\", \"order_id\", \"product_id\"])\n",
    "\n",
    "print(\"Dataframe: \\n\", df)\n",
    "# Filter dataframe mennggunakan loc\n",
    "df_slice = df.loc[(\"2019-01-01\", 1612339, [\"P2154\", \"P2159\"]),:]\n",
    "print(\"Dataframe: \\n\", df_slice)"
   ]
  },
  {
   "cell_type": "code",
   "execution_count": 28,
   "metadata": {},
   "outputs": [],
   "source": [
    "import pandas as pd\n",
    "\n",
    "df = pd.read_csv(\"https://storage.googleapis.com/dqlab-dataset/sample_csv.csv\")\n",
    "df = df.set_index([\"province\", \"order_id\"])\n",
    "\n",
    "df_slice = df.loc[(df[\"quantity\"] > 100)]\n",
    "print(\"Dataframe slice: \\n\", df_slice)\n",
    "\n",
    "df_slice = df.loc[(\"Jawa Barat\", 1612345),:]\n",
    "print(\"Dataframe: \\n\", df_slice)"
   ]
  },
  {
   "cell_type": "code",
   "execution_count": null,
   "metadata": {},
   "outputs": [],
   "source": []
  }
 ]
}