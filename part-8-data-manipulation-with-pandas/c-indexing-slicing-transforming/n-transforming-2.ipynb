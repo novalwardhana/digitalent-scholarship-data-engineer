{
 "metadata": {
  "language_info": {
   "codemirror_mode": {
    "name": "ipython",
    "version": 3
   },
   "file_extension": ".py",
   "mimetype": "text/x-python",
   "name": "python",
   "nbconvert_exporter": "python",
   "pygments_lexer": "ipython3",
   "version": "3.8.5"
  },
  "orig_nbformat": 2,
  "kernelspec": {
   "name": "python3",
   "display_name": "Python 3.8.5 64-bit"
  }
 },
 "nbformat": 4,
 "nbformat_minor": 2,
 "cells": [
  {
   "cell_type": "code",
   "execution_count": 5,
   "metadata": {},
   "outputs": [
    {
     "output_type": "stream",
     "name": "stdout",
     "text": [
      "Tipe data: \n order_id        int64\norder_date     object\ncustomer_id     int64\ncity           object\nprovince       object\nproduct_id     object\nbrand          object\nquantity        int64\nitem_price      int64\ndtype: object \n\nTipe data setelah transformasi:\n order_id          int64\norder_date       object\ncustomer_id       int64\ncity           category\nprovince         object\nproduct_id       object\nbrand            object\nquantity        float32\nitem_price        int64\ndtype: object\n"
     ]
    }
   ],
   "source": [
    "import pandas as pd\n",
    "\n",
    "df = pd.read_csv(\"https://storage.googleapis.com/dqlab-dataset/sample_csv.csv\")\n",
    "print(\"Tipe data: \\n\", df.dtypes, \"\\n\")\n",
    "\n",
    "# Ubah tipe data kolom quantity\n",
    "df[\"quantity\"] = pd.to_numeric(df[\"quantity\"], downcast=\"float\")\n",
    "\n",
    "# Ubah tipe data kolom city\n",
    "df[\"city\"] = df[\"city\"].astype(\"category\")\n",
    "\n",
    "print(\"Tipe data setelah transformasi:\\n\", df.dtypes)"
   ]
  },
  {
   "cell_type": "code",
   "execution_count": 10,
   "metadata": {},
   "outputs": [
    {
     "output_type": "stream",
     "name": "stdout",
     "text": [
      "Tipe data df: \n order_id        int64\norder_date     object\ncustomer_id     int64\ncity           object\nprovince       object\nproduct_id     object\nbrand          object\nquantity        int64\nitem_price      int64\ndtype: object \n\nTipe data df setelah transformasi: \n order_id                int64\norder_date     datetime64[ns]\ncustomer_id             int64\ncity                 category\nprovince             category\nproduct_id             object\nbrand                category\nquantity                int64\nitem_price            float32\ndtype: object\n"
     ]
    }
   ],
   "source": [
    "import pandas as pd\n",
    "\n",
    "df = pd.read_csv(\"https://storage.googleapis.com/dqlab-dataset/sample_csv.csv\")\n",
    "print(\"Tipe data df: \\n\", df.dtypes, \"\\n\")\n",
    "\n",
    "df[\"order_date\"] = pd.to_datetime(df[\"order_date\"])\n",
    "df[\"city\"] = df[\"city\"].astype(\"category\")\n",
    "df[\"province\"] = df[\"province\"].astype(\"category\")\n",
    "df[\"brand\"] = df[\"brand\"].astype(\"category\")\n",
    "df[\"item_price\"] = pd.to_numeric(df[\"item_price\"], downcast=\"float\")\n",
    "\n",
    "print(\"Tipe data df setelah transformasi: \\n\", df.dtypes)"
   ]
  },
  {
   "cell_type": "code",
   "execution_count": null,
   "metadata": {},
   "outputs": [],
   "source": []
  }
 ]
}