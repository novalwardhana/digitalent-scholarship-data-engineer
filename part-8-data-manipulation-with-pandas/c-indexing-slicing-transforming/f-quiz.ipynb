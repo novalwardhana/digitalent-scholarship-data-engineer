{
 "metadata": {
  "language_info": {
   "codemirror_mode": {
    "name": "ipython",
    "version": 3
   },
   "file_extension": ".py",
   "mimetype": "text/x-python",
   "name": "python",
   "nbconvert_exporter": "python",
   "pygments_lexer": "ipython3",
   "version": "3.8.5"
  },
  "orig_nbformat": 2,
  "kernelspec": {
   "name": "python385jvsc74a57bd0916dbcbb3f70747c44a77c7bcd40155683ae19c65e1c03b4aa3499c5328201f1",
   "display_name": "Python 3.8.5 64-bit"
  },
  "metadata": {
   "interpreter": {
    "hash": "916dbcbb3f70747c44a77c7bcd40155683ae19c65e1c03b4aa3499c5328201f1"
   }
  }
 },
 "nbformat": 4,
 "nbformat_minor": 2,
 "cells": [
  {
   "cell_type": "code",
   "execution_count": 15,
   "metadata": {},
   "outputs": [
    {
     "output_type": "stream",
     "name": "stdout",
     "text": [
      "Dataframe: \n    day_number week_type\n0           1   weekday\n1           2   weekday\n2           3   weekday\n3           4   weekday\n4           5   weekday\n5           6   weekend\n6           7   weekend \n\nDataframe new index: \n        day_number week_type\nMon 1           1   weekday\nTue 2           2   weekday\nWed 3           3   weekday\nThu 4           4   weekday\nFri 5           5   weekday\nSat 6           6   weekend\nSun 7           7   weekend \n\nDataframe new index: \n           day_number week_type\nname sum                      \nMon  1             1   weekday\nTue  2             2   weekday\nWed  3             3   weekday\nThu  4             4   weekday\nFri  5             5   weekday\nSat  6             6   weekend\nSun  7             7   weekend\n"
     ]
    }
   ],
   "source": [
    "import pandas as pd\n",
    "\n",
    "df_week = pd.DataFrame({\n",
    "    \"day_number\": [1, 2, 3, 4, 5, 6, 7],\n",
    "    \"week_type\": [\"weekday\" for i in range(5)] + [\"weekend\" for i in range(2)]\n",
    "})\n",
    "print(\"Dataframe: \\n\", df_week, \"\\n\")\n",
    "\n",
    "# Set index\n",
    "df_week_ix = [\"Mon\", \"Tue\", \"Wed\", \"Thu\", \"Fri\", \"Sat\", \"Sun\"]\n",
    "df_week.index = [df_week_ix, df_week[\"day_number\"].to_list()]\n",
    "print(\"Dataframe new index: \\n\", df_week, \"\\n\")\n",
    "\n",
    "# Change index names\n",
    "df_week.index.names = [\"name\", \"sum\"]\n",
    "print(\"Dataframe new index: \\n\", df_week)\n"
   ]
  },
  {
   "cell_type": "code",
   "execution_count": 9,
   "metadata": {},
   "outputs": [
    {
     "output_type": "stream",
     "name": "stdout",
     "text": [
      "Dataframe: \n     day_number week_type activity_type\n0            1   weekday      grooming\n1            2   weekday    developing\n2            3   weekday    developing\n3            4   weekday    developing\n4            5   weekday    developing\n5            6   weekend          idle\n6            7   weekend          idle\n7            8   weekday    discussion\n8            9   weekday    developing\n9           10   weekday            QA\n10          11   weekday            QA\n11          12   weekday        Review\n12          13   weekend          idle\n13          14   weekend          idle \n\nDataframe new index: \n                 day_number week_type activity_type\nno day type                                       \n1  Mon weekday           1   weekday      grooming\n2  Tue weekday           2   weekday    developing\n3  Wed weekday           3   weekday    developing\n4  Thu weekday           4   weekday    developing\n5  Fri weekday           5   weekday    developing\n6  Sat weekend           6   weekend          idle\n7  Sun weekend           7   weekend          idle\n8  Mon weekday           8   weekday    discussion\n9  Tue weekday           9   weekday    developing\n10 Wed weekday          10   weekday            QA\n11 Thu weekday          11   weekday            QA\n12 Fri weekday          12   weekday        Review\n13 Sat weekend          13   weekend          idle\n14 Sun weekend          14   weekend          idle\n"
     ]
    }
   ],
   "source": [
    "import pandas as pd\n",
    "\n",
    "df_sprint = pd.DataFrame({\n",
    "    \"day_number\": [1, 2, 3, 4, 5, 6, 7, 8, 9, 10, 11, 12, 13, 14],\n",
    "    \"week_type\": [\"weekday\" for i in range(5)] + [\"weekend\" for i in range(2)] + [\"weekday\" for i in range(5)] + [\"weekend\" for i in range(2)],\n",
    "    \"activity_type\": [\"grooming\", \"developing\", \"developing\", \"developing\", \"developing\", \"idle\", \"idle\", \"discussion\", \"developing\", \"QA\", \"QA\", \"Review\", \"idle\", \"idle\"]\n",
    "})\n",
    "print(\"Dataframe: \\n\", df_sprint, \"\\n\")\n",
    "\n",
    "# Set index\n",
    "df_sprint_day = [\"Mon\", \"Tue\", \"Wed\", \"Thu\", \"Fri\", \"Sat\", \"Sun\", \"Mon\", \"Tue\", \"Wed\", \"Thu\", \"Fri\", \"Sat\", \"Sun\"]\n",
    "df_sprint.index = [df_sprint[\"day_number\"].to_list(), df_sprint_day, df_sprint[\"week_type\"].to_list()]\n",
    "df_sprint.index.names = [\"no\", \"day\", \"type\"]\n",
    "print(\"Dataframe new index: \\n\", df_sprint)"
   ]
  },
  {
   "cell_type": "code",
   "execution_count": null,
   "metadata": {},
   "outputs": [],
   "source": []
  }
 ]
}