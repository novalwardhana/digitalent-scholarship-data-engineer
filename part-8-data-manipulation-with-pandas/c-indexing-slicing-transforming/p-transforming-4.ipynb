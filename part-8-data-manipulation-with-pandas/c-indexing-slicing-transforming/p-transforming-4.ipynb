{
 "metadata": {
  "language_info": {
   "codemirror_mode": {
    "name": "ipython",
    "version": 3
   },
   "file_extension": ".py",
   "mimetype": "text/x-python",
   "name": "python",
   "nbconvert_exporter": "python",
   "pygments_lexer": "ipython3",
   "version": "3.8.5"
  },
  "orig_nbformat": 2,
  "kernelspec": {
   "name": "python3",
   "display_name": "Python 3.8.5 64-bit"
  }
 },
 "nbformat": 4,
 "nbformat_minor": 2,
 "cells": [
  {
   "cell_type": "code",
   "execution_count": 12,
   "metadata": {},
   "outputs": [
    {
     "output_type": "stream",
     "name": "stdout",
     "text": [
      "Dataframe: \n           0         1         2         3\n0  0.191519  0.622109  0.437728  0.785359\n1  0.779976  0.272593  0.276464  0.801872\n2  0.958139  0.875933  0.357817  0.500995 \n\nDataframe setelah applymap: \n           0         1         2         3\n0  2.611238  4.253346  3.504789  4.972864\n1  4.948290  2.892085  2.905825  5.048616\n2  5.792449  5.395056  3.201485  3.753981 \n\nDataframe setelah applymap: \n           0         1         2         3\n0  2.611238  4.253346  3.504789  4.972864\n1  4.948290  2.892085  2.905825  5.048616\n2  5.792449  5.395056  3.201485  3.753981 \n\n"
     ]
    }
   ],
   "source": [
    "import numpy as np\n",
    "import pandas as pd\n",
    "\n",
    "np.random.seed(1234)\n",
    "\n",
    "df_tr = pd.DataFrame(np.random.rand(3, 4))\n",
    "print(\"Dataframe: \\n\", df_tr, \"\\n\")\n",
    "\n",
    "# Appplymap: Hanya bekerja pada Pandas Dataframe.\n",
    "df_tr1 = df_tr.applymap(lambda x: x**2 + 3*x +2)\n",
    "print(\"Dataframe setelah applymap: \\n\", df_tr1, \"\\n\")\n",
    "\n",
    "# Applymap dengan function\n",
    "def quadratic_fuc(x):\n",
    "    return x**2 + 3*x + 2\n",
    "df_tr2 = df_tr.applymap(quadratic_fuc)\n",
    "print(\"Dataframe setelah applymap: \\n\", df_tr2, \"\\n\")"
   ]
  },
  {
   "cell_type": "code",
   "execution_count": 22,
   "metadata": {},
   "outputs": [
    {
     "output_type": "stream",
     "name": "stdout",
     "text": [
      "Dataframe: \n           x-1       x-2       x-3       x-4       x-5\ny-1  0.929616  0.316376  0.183919  0.204560  0.567725\ny-2  0.595545  0.964515  0.653177  0.748907  0.653570\ny-3  0.747715  0.961307  0.008388  0.106444  0.298704\ny-4  0.656411  0.809813  0.872176  0.964648  0.723685\ny-5  0.642475  0.717454  0.467599  0.325585  0.439645 \n\nDataframe applymap: \n             x-1         x-2         x-3         x-4         x-5\ny-1  106.512267  102.681971  101.953420  102.064646  104.160937\ny-2  104.332397  106.752861  104.692526  105.305394  104.695003\ny-3  105.297651  106.730644  101.042012  101.543552  102.582742\ny-4  104.712932  105.704859  106.121570  106.753783  105.142147\ny-5  104.625151  105.102008  103.556644  102.733929  103.391510 \n\nDataframe applymap: \n             x-1         x-2         x-3         x-4         x-5\ny-1  106.512267  102.681971  101.953420  102.064646  104.160937\ny-2  104.332397  106.752861  104.692526  105.305394  104.695003\ny-3  105.297651  106.730644  101.042012  101.543552  102.582742\ny-4  104.712932  105.704859  106.121570  106.753783  105.142147\ny-5  104.625151  105.102008  103.556644  102.733929  103.391510 \n\n"
     ]
    }
   ],
   "source": [
    "import numpy as np\n",
    "import pandas as pd\n",
    "\n",
    "np.random.seed(12345)\n",
    "\n",
    "df_index = [\"y-1\", \"y-2\", \"y-3\", \"y-4\", \"y-5\"]\n",
    "df_columns = [\"x-1\", \"x-2\", \"x-3\", \"x-4\", \"x-5\"]\n",
    "df = pd.DataFrame(np.random.rand(5, 5), index=df_index, columns=df_columns)\n",
    "print(\"Dataframe: \\n\", df, \"\\n\")\n",
    "\n",
    "df_tr1 = df.applymap(lambda x: (x + 1)**2 + 3*x + 100)\n",
    "print(\"Dataframe applymap: \\n\", df_tr1, \"\\n\")\n",
    "\n",
    "def changeData(x):\n",
    "    result = (x + 1)**2 + 3*x + 100\n",
    "    return result\n",
    "df_tr2 = df.applymap(changeData)\n",
    "print(\"Dataframe applymap: \\n\", df_tr2, \"\\n\")"
   ]
  },
  {
   "cell_type": "code",
   "execution_count": null,
   "metadata": {},
   "outputs": [],
   "source": []
  }
 ]
}