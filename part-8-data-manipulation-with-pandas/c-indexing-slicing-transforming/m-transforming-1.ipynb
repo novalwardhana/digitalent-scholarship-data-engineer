{
 "metadata": {
  "language_info": {
   "codemirror_mode": {
    "name": "ipython",
    "version": 3
   },
   "file_extension": ".py",
   "mimetype": "text/x-python",
   "name": "python",
   "nbconvert_exporter": "python",
   "pygments_lexer": "ipython3",
   "version": "3.8.5"
  },
  "orig_nbformat": 2,
  "kernelspec": {
   "name": "python3",
   "display_name": "Python 3.8.5 64-bit"
  }
 },
 "nbformat": 4,
 "nbformat_minor": 2,
 "cells": [
  {
   "cell_type": "code",
   "execution_count": 5,
   "metadata": {},
   "outputs": [
    {
     "output_type": "stream",
     "name": "stdout",
     "text": [
      "Tipe data:\n order_id        int64\norder_date     object\ncustomer_id     int64\ncity           object\nprovince       object\nproduct_id     object\nbrand          object\nquantity        int64\nitem_price      int64\ndtype: object \n\nTipe data setelah transformasi: \n order_id                int64\norder_date     datetime64[ns]\ncustomer_id             int64\ncity                   object\nprovince               object\nproduct_id             object\nbrand                  object\nquantity                int64\nitem_price              int64\ndtype: object\n"
     ]
    }
   ],
   "source": [
    "import pandas as pd \n",
    "\n",
    "df = pd.read_csv(\"https://storage.googleapis.com/dqlab-dataset/sample_csv.csv\")\n",
    "\n",
    "# Menampilkan tipe data\n",
    "print(\"Tipe data:\\n\", df.dtypes, \"\\n\")\n",
    "\n",
    "# Ubah kolom order_date menjadi datetime\n",
    "df[\"order_date\"] = pd.to_datetime(df[\"order_date\"])\n",
    "print(\"Tipe data setelah transformasi: \\n\", df.dtypes)\n"
   ]
  },
  {
   "cell_type": "code",
   "execution_count": null,
   "metadata": {},
   "outputs": [],
   "source": []
  }
 ]
}