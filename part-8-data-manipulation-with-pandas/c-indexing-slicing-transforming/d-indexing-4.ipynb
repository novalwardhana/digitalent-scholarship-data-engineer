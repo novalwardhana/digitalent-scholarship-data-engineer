{
 "metadata": {
  "language_info": {
   "codemirror_mode": {
    "name": "ipython",
    "version": 3
   },
   "file_extension": ".py",
   "mimetype": "text/x-python",
   "name": "python",
   "nbconvert_exporter": "python",
   "pygments_lexer": "ipython3",
   "version": "3.8.5"
  },
  "orig_nbformat": 2,
  "kernelspec": {
   "name": "python3",
   "display_name": "Python 3.8.5 64-bit"
  }
 },
 "nbformat": 4,
 "nbformat_minor": 2,
 "cells": [
  {
   "cell_type": "code",
   "execution_count": 3,
   "metadata": {},
   "outputs": [
    {
     "output_type": "stream",
     "name": "stdout",
     "text": [
      "Dataframe: \n    order_id  order_date  customer_id             city     province product_id  \\\n0   1612339  2019-01-01        18055  Jakarta Selatan  DKI Jakarta      P0648   \n1   1612339  2019-01-01        18055  Jakarta Selatan  DKI Jakarta      P3826   \n2   1612339  2019-01-01        18055  Jakarta Selatan  DKI Jakarta      P1508   \n3   1612339  2019-01-01        18055  Jakarta Selatan  DKI Jakarta      P0520   \n4   1612339  2019-01-01        18055  Jakarta Selatan  DKI Jakarta      P1513   \n5   1612339  2019-01-01        18055  Jakarta Selatan  DKI Jakarta      P3911   \n6   1612339  2019-01-01        18055  Jakarta Selatan  DKI Jakarta      P1780   \n7   1612339  2019-01-01        18055  Jakarta Selatan  DKI Jakarta      P3132   \n8   1612339  2019-01-01        18055  Jakarta Selatan  DKI Jakarta      P1342   \n9   1612339  2019-01-01        18055  Jakarta Selatan  DKI Jakarta      P2556   \n\n     brand  quantity  item_price  \n0  BRAND_C         4     1934000  \n1  BRAND_V         8      604000  \n2  BRAND_G        12      747000  \n3  BRAND_B        12      450000  \n4  BRAND_G         3     1500000  \n5  BRAND_V         3     2095000  \n6  BRAND_H         3     2095000  \n7  BRAND_S         3     1745000  \n8  BRAND_F         6     1045000  \n9  BRAND_P         6     1045000  \nDataframe dengan index baru: \n                  order_id  order_date  customer_id             city  \\\nPesanan ke - 1    1612339  2019-01-01        18055  Jakarta Selatan   \nPesanan ke - 2    1612339  2019-01-01        18055  Jakarta Selatan   \nPesanan ke - 3    1612339  2019-01-01        18055  Jakarta Selatan   \nPesanan ke - 4    1612339  2019-01-01        18055  Jakarta Selatan   \nPesanan ke - 5    1612339  2019-01-01        18055  Jakarta Selatan   \nPesanan ke - 6    1612339  2019-01-01        18055  Jakarta Selatan   \nPesanan ke - 7    1612339  2019-01-01        18055  Jakarta Selatan   \nPesanan ke - 8    1612339  2019-01-01        18055  Jakarta Selatan   \nPesanan ke - 9    1612339  2019-01-01        18055  Jakarta Selatan   \nPesanan ke - 10   1612339  2019-01-01        18055  Jakarta Selatan   \n\n                    province product_id    brand  quantity  item_price  \nPesanan ke - 1   DKI Jakarta      P0648  BRAND_C         4     1934000  \nPesanan ke - 2   DKI Jakarta      P3826  BRAND_V         8      604000  \nPesanan ke - 3   DKI Jakarta      P1508  BRAND_G        12      747000  \nPesanan ke - 4   DKI Jakarta      P0520  BRAND_B        12      450000  \nPesanan ke - 5   DKI Jakarta      P1513  BRAND_G         3     1500000  \nPesanan ke - 6   DKI Jakarta      P3911  BRAND_V         3     2095000  \nPesanan ke - 7   DKI Jakarta      P1780  BRAND_H         3     2095000  \nPesanan ke - 8   DKI Jakarta      P3132  BRAND_S         3     1745000  \nPesanan ke - 9   DKI Jakarta      P1342  BRAND_F         6     1045000  \nPesanan ke - 10  DKI Jakarta      P2556  BRAND_P         6     1045000  \n"
     ]
    }
   ],
   "source": [
    "import pandas as pd\n",
    "\n",
    "# Melihat data .tsv untuk 10 baris pertama saja\n",
    "df = pd.read_csv(\"https://storage.googleapis.com/dqlab-dataset/sample_tsv.tsv\", sep=\"\\t\", nrows=10)\n",
    "print(\"Dataframe: \\n\", df)\n",
    "\n",
    "# Set index baru\n",
    "df.index = [\"Pesanan ke - \" + str(i) for i in range(1, 11) ]\n",
    "print(\"Dataframe dengan index baru: \\n\", df)"
   ]
  },
  {
   "cell_type": "code",
   "execution_count": 8,
   "metadata": {},
   "outputs": [
    {
     "output_type": "stream",
     "name": "stdout",
     "text": [
      "Dataframe: \n    day_number week_type\n0           1   weekday\n1           2   weekday\n2           3   weekday\n3           4   weekday\n4           5   weekday\n5           6   weekend\n6           7   weekend \n\nDataframe dengan index baru: \n            day_number week_type\nMonday              1   weekday\nTuesday             2   weekday\nWednesday           3   weekday\nThursday            4   weekday\nFriday              5   weekday\nSaturday            6   weekend\nSunday              7   weekend\n"
     ]
    }
   ],
   "source": [
    "import pandas as pd\n",
    "\n",
    "df = pd.DataFrame({\n",
    "    \"day_number\": [1, 2, 3, 4, 5, 6, 7],\n",
    "    \"week_type\": [\"weekday\" for i in range(5)] + [\"weekend\" for i in range(2)]\n",
    "})\n",
    "print(\"Dataframe: \\n\", df, \"\\n\")\n",
    "\n",
    "# Definisikan indexnya dan assign\n",
    "df.index = [\"Monday\", \"Tuesday\", \"Wednesday\", \"Thursday\", \"Friday\", \"Saturday\", \"Sunday\"]\n",
    "print(\"Dataframe dengan index baru: \\n\", df)"
   ]
  },
  {
   "cell_type": "code",
   "execution_count": 11,
   "metadata": {},
   "outputs": [
    {
     "output_type": "stream",
     "name": "stdout",
     "text": [
      "Dataframe: \n     order_id  order_date  customer_id             city     province  \\\n0    1612339  2019-01-01        18055  Jakarta Selatan  DKI Jakarta   \n1    1612339  2019-01-01        18055  Jakarta Selatan  DKI Jakarta   \n2    1612339  2019-01-01        18055  Jakarta Selatan  DKI Jakarta   \n3    1612339  2019-01-01        18055  Jakarta Selatan  DKI Jakarta   \n4    1612339  2019-01-01        18055  Jakarta Selatan  DKI Jakarta   \n5    1612339  2019-01-01        18055  Jakarta Selatan  DKI Jakarta   \n6    1612339  2019-01-01        18055  Jakarta Selatan  DKI Jakarta   \n7    1612339  2019-01-01        18055  Jakarta Selatan  DKI Jakarta   \n8    1612339  2019-01-01        18055  Jakarta Selatan  DKI Jakarta   \n9    1612339  2019-01-01        18055  Jakarta Selatan  DKI Jakarta   \n10   1612339  2019-01-01        18055  Jakarta Selatan  DKI Jakarta   \n11   1612339  2019-01-01        18055  Jakarta Selatan  DKI Jakarta   \n12   1612339  2019-01-01        18055  Jakarta Selatan  DKI Jakarta   \n13   1612339  2019-01-01        18055  Jakarta Selatan  DKI Jakarta   \n14   1612339  2019-01-01        18055  Jakarta Selatan  DKI Jakarta   \n15   1612339  2019-01-01        18055  Jakarta Selatan  DKI Jakarta   \n16   1612339  2019-01-01        18055  Jakarta Selatan  DKI Jakarta   \n17   1612339  2019-01-01        18055  Jakarta Selatan  DKI Jakarta   \n18   1612339  2019-01-01        18055  Jakarta Selatan  DKI Jakarta   \n19   1612339  2019-01-01        18055  Jakarta Selatan  DKI Jakarta   \n20   1612339  2019-01-01        18055  Jakarta Selatan  DKI Jakarta   \n21   1612339  2019-01-01        18055  Jakarta Selatan  DKI Jakarta   \n22   1612339  2019-01-01        18055  Jakarta Selatan  DKI Jakarta   \n23   1612339  2019-01-01        18055  Jakarta Selatan  DKI Jakarta   \n24   1612339  2019-01-01        18055  Jakarta Selatan  DKI Jakarta   \n25   1612339  2019-01-01        18055  Jakarta Selatan  DKI Jakarta   \n26   1612339  2019-01-01        18055  Jakarta Selatan  DKI Jakarta   \n27   1612339  2019-01-01        18055  Jakarta Selatan  DKI Jakarta   \n28   1612342  2019-01-01        13963    Jakarta Utara  DKI Jakarta   \n29   1612342  2019-01-01        13963    Jakarta Utara  DKI Jakarta   \n\n   product_id    brand  quantity  item_price  \n0       P0648  BRAND_C         4     1934000  \n1       P3826  BRAND_V         8      604000  \n2       P1508  BRAND_G        12      747000  \n3       P0520  BRAND_B        12      450000  \n4       P1513  BRAND_G         3     1500000  \n5       P3911  BRAND_V         3     2095000  \n6       P1780  BRAND_H         3     2095000  \n7       P3132  BRAND_S         3     1745000  \n8       P1342  BRAND_F         6     1045000  \n9       P2556  BRAND_P         6     1045000  \n10      P2154  BRAND_M         4     1745000  \n11      P1685  BRAND_H        12      747000  \n12      P3665  BRAND_S         4     2375000  \n13      P0219  BRAND_A         8     1045000  \n14      P1680  BRAND_H        12      747000  \n15      P1679  BRAND_H        12      747000  \n16      P2159  BRAND_M        24      310000  \n17      P3837  BRAND_V         4     1500000  \n18      P2783  BRAND_P         2      555000  \n19      P1255  BRAND_E         3     1500000  \n20      P1118  BRAND_D         4     2795000  \n21      P2660  BRAND_P         6     1045000  \n22      P1597  BRAND_G        18      520000  \n23      P0968  BRAND_C         6      904000  \n24      P4075  BRAND_W         6      904000  \n25      P4057  BRAND_W         4     2095000  \n26      P4060  BRAND_W         6     2795000  \n27      P4009  BRAND_W         6     1045000  \n28      P1306  BRAND_F         8     1325000  \n29      P1305  BRAND_F         4     1325000  \nDataframe new index: \n               order_id  order_date  customer_id             city     province  \\\nData ke - 1    1612339  2019-01-01        18055  Jakarta Selatan  DKI Jakarta   \nData ke - 2    1612339  2019-01-01        18055  Jakarta Selatan  DKI Jakarta   \nData ke - 3    1612339  2019-01-01        18055  Jakarta Selatan  DKI Jakarta   \nData ke - 4    1612339  2019-01-01        18055  Jakarta Selatan  DKI Jakarta   \nData ke - 5    1612339  2019-01-01        18055  Jakarta Selatan  DKI Jakarta   \nData ke - 6    1612339  2019-01-01        18055  Jakarta Selatan  DKI Jakarta   \nData ke - 7    1612339  2019-01-01        18055  Jakarta Selatan  DKI Jakarta   \nData ke - 8    1612339  2019-01-01        18055  Jakarta Selatan  DKI Jakarta   \nData ke - 9    1612339  2019-01-01        18055  Jakarta Selatan  DKI Jakarta   \nData ke - 10   1612339  2019-01-01        18055  Jakarta Selatan  DKI Jakarta   \nData ke - 11   1612339  2019-01-01        18055  Jakarta Selatan  DKI Jakarta   \nData ke - 12   1612339  2019-01-01        18055  Jakarta Selatan  DKI Jakarta   \nData ke - 13   1612339  2019-01-01        18055  Jakarta Selatan  DKI Jakarta   \nData ke - 14   1612339  2019-01-01        18055  Jakarta Selatan  DKI Jakarta   \nData ke - 15   1612339  2019-01-01        18055  Jakarta Selatan  DKI Jakarta   \nData ke - 16   1612339  2019-01-01        18055  Jakarta Selatan  DKI Jakarta   \nData ke - 17   1612339  2019-01-01        18055  Jakarta Selatan  DKI Jakarta   \nData ke - 18   1612339  2019-01-01        18055  Jakarta Selatan  DKI Jakarta   \nData ke - 19   1612339  2019-01-01        18055  Jakarta Selatan  DKI Jakarta   \nData ke - 20   1612339  2019-01-01        18055  Jakarta Selatan  DKI Jakarta   \nData ke - 21   1612339  2019-01-01        18055  Jakarta Selatan  DKI Jakarta   \nData ke - 22   1612339  2019-01-01        18055  Jakarta Selatan  DKI Jakarta   \nData ke - 23   1612339  2019-01-01        18055  Jakarta Selatan  DKI Jakarta   \nData ke - 24   1612339  2019-01-01        18055  Jakarta Selatan  DKI Jakarta   \nData ke - 25   1612339  2019-01-01        18055  Jakarta Selatan  DKI Jakarta   \nData ke - 26   1612339  2019-01-01        18055  Jakarta Selatan  DKI Jakarta   \nData ke - 27   1612339  2019-01-01        18055  Jakarta Selatan  DKI Jakarta   \nData ke - 28   1612339  2019-01-01        18055  Jakarta Selatan  DKI Jakarta   \nData ke - 29   1612342  2019-01-01        13963    Jakarta Utara  DKI Jakarta   \nData ke - 30   1612342  2019-01-01        13963    Jakarta Utara  DKI Jakarta   \n\n             product_id    brand  quantity  item_price  \nData ke - 1       P0648  BRAND_C         4     1934000  \nData ke - 2       P3826  BRAND_V         8      604000  \nData ke - 3       P1508  BRAND_G        12      747000  \nData ke - 4       P0520  BRAND_B        12      450000  \nData ke - 5       P1513  BRAND_G         3     1500000  \nData ke - 6       P3911  BRAND_V         3     2095000  \nData ke - 7       P1780  BRAND_H         3     2095000  \nData ke - 8       P3132  BRAND_S         3     1745000  \nData ke - 9       P1342  BRAND_F         6     1045000  \nData ke - 10      P2556  BRAND_P         6     1045000  \nData ke - 11      P2154  BRAND_M         4     1745000  \nData ke - 12      P1685  BRAND_H        12      747000  \nData ke - 13      P3665  BRAND_S         4     2375000  \nData ke - 14      P0219  BRAND_A         8     1045000  \nData ke - 15      P1680  BRAND_H        12      747000  \nData ke - 16      P1679  BRAND_H        12      747000  \nData ke - 17      P2159  BRAND_M        24      310000  \nData ke - 18      P3837  BRAND_V         4     1500000  \nData ke - 19      P2783  BRAND_P         2      555000  \nData ke - 20      P1255  BRAND_E         3     1500000  \nData ke - 21      P1118  BRAND_D         4     2795000  \nData ke - 22      P2660  BRAND_P         6     1045000  \nData ke - 23      P1597  BRAND_G        18      520000  \nData ke - 24      P0968  BRAND_C         6      904000  \nData ke - 25      P4075  BRAND_W         6      904000  \nData ke - 26      P4057  BRAND_W         4     2095000  \nData ke - 27      P4060  BRAND_W         6     2795000  \nData ke - 28      P4009  BRAND_W         6     1045000  \nData ke - 29      P1306  BRAND_F         8     1325000  \nData ke - 30      P1305  BRAND_F         4     1325000  \n"
     ]
    }
   ],
   "source": [
    "import pandas as pd\n",
    "\n",
    "df = pd.read_csv(\"https://storage.googleapis.com/dqlab-dataset/sample_tsv.tsv\", sep=\"\\t\", nrows=30)\n",
    "print(\"Dataframe: \\n\", df)\n",
    "\n",
    "df.index = [\"Data ke - \" + str(i) for i in range(1, 31)]\n",
    "print(\"Dataframe new index: \\n\", df)"
   ]
  },
  {
   "cell_type": "code",
   "execution_count": null,
   "metadata": {},
   "outputs": [],
   "source": []
  }
 ]
}