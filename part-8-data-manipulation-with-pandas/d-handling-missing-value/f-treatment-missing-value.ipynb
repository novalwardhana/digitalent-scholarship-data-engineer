{
 "metadata": {
  "language_info": {
   "codemirror_mode": {
    "name": "ipython",
    "version": 3
   },
   "file_extension": ".py",
   "mimetype": "text/x-python",
   "name": "python",
   "nbconvert_exporter": "python",
   "pygments_lexer": "ipython3",
   "version": "3.8.5"
  },
  "orig_nbformat": 2,
  "kernelspec": {
   "name": "python3",
   "display_name": "Python 3.8.5 64-bit"
  }
 },
 "nbformat": 4,
 "nbformat_minor": 2,
 "cells": [
  {
   "cell_type": "code",
   "execution_count": 15,
   "metadata": {},
   "outputs": [
    {
     "output_type": "stream",
     "name": "stdout",
     "text": [
      "Data ts: \n 2020-01-01     9.0\n2020-01-02     NaN\n2020-01-05     NaN\n2020-01-07    24.0\n2020-01-10     NaN\n2020-01-12     NaN\n2020-01-15    33.0\n2020-01-17     NaN\n2020-01-16    40.0\n2020-01-20    45.0\n2020-01-22    52.0\n2020-01-25    75.0\n2020-01-28     NaN\n2020-01-30     NaN\ndtype: float64\nData ts missing value:  7\nType:  float64\n\n---------------\n\nData ts setelah interpolasi: \n 2020-01-01     9.0\n2020-01-02    14.0\n2020-01-05    19.0\n2020-01-07    24.0\n2020-01-10    27.0\n2020-01-12    30.0\n2020-01-15    33.0\n2020-01-17    36.5\n2020-01-16    40.0\n2020-01-20    45.0\n2020-01-22    52.0\n2020-01-25    75.0\n2020-01-28    75.0\n2020-01-30    75.0\ndtype: float64\nData ts missing value:  0\nType:  float64\n"
     ]
    }
   ],
   "source": [
    "import numpy as np\n",
    "import pandas as pd\n",
    "\n",
    "ts = pd.Series({\n",
    "    \"2020-01-01\": 9,\n",
    "    \"2020-01-02\": np.nan,\n",
    "    \"2020-01-05\": np.nan,\n",
    "    \"2020-01-07\": 24,\n",
    "    \"2020-01-10\": np.nan,\n",
    "    \"2020-01-12\": np.nan,\n",
    "    \"2020-01-15\": 33,\n",
    "    \"2020-01-17\": np.nan,\n",
    "    \"2020-01-16\": 40,\n",
    "    \"2020-01-20\": 45,\n",
    "    \"2020-01-22\": 52,\n",
    "    \"2020-01-25\": 75,\n",
    "    \"2020-01-28\": np.nan,\n",
    "    \"2020-01-30\": np.nan,\n",
    "})\n",
    "print(\"Data ts: \\n\", ts)\n",
    "print(\"Data ts missing value: \", ts.isna().sum())\n",
    "print(\"Type: \", ts.dtypes)\n",
    "\n",
    "print(\"\\n---------------\\n\")\n",
    "\n",
    "# Isi missing value dengan interpolasi linier\n",
    "ts = ts.interpolate()\n",
    "print(\"Data ts setelah interpolasi: \\n\", ts)\n",
    "print(\"Data ts missing value: \", ts.isna().sum())\n",
    "print(\"Type: \", ts.dtypes)"
   ]
  },
  {
   "cell_type": "code",
   "execution_count": 19,
   "metadata": {},
   "outputs": [
    {
     "output_type": "stream",
     "name": "stdout",
     "text": [
      "Dataframe sample: \n 0      3.0\n1      8.0\n2      NaN\n3      NaN\n4     12.0\n5     18.0\n6     19.0\n7     21.0\n8      NaN\n9     30.0\n10    35.0\n11     NaN\ndtype: float64\nData sample missing value:  4\nType:  float64\n\n---------------\n\nDataframe sample: \n 0      3.000000\n1      8.000000\n2      9.333333\n3     10.666667\n4     12.000000\n5     18.000000\n6     19.000000\n7     21.000000\n8     25.500000\n9     30.000000\n10    35.000000\n11    35.000000\ndtype: float64\nData sample missing value:  0\nType:  float64\nMean: 18.875000, Median: 18.500000.\n"
     ]
    }
   ],
   "source": [
    "import numpy as np \n",
    "import pandas as pd\n",
    "\n",
    "sample = pd.Series([3, 8, np.nan, np.nan, 12, 18, 19, 21, np.nan, 30, 35, np.nan])\n",
    "print(\"Dataframe sample: \\n\", sample)\n",
    "print(\"Data sample missing value: \", sample.isna().sum())\n",
    "print(\"Type: \", sample.dtypes)\n",
    "\n",
    "print(\"\\n---------------\\n\")\n",
    "\n",
    "# Isi missing value dengan interpolasi linier\n",
    "sample = sample.interpolate()\n",
    "print(\"Dataframe sample: \\n\", sample)\n",
    "print(\"Data sample missing value: \", sample.isna().sum())\n",
    "print(\"Type: \", sample.dtypes)\n",
    "print(\"Mean: %f, Median: %f.\" %(sample.mean(), sample.median()))"
   ]
  },
  {
   "cell_type": "code",
   "execution_count": null,
   "metadata": {},
   "outputs": [],
   "source": []
  }
 ]
}