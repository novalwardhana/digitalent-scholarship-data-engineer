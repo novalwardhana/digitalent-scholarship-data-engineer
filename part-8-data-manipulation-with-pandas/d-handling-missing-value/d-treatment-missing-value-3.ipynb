{
 "metadata": {
  "language_info": {
   "codemirror_mode": {
    "name": "ipython",
    "version": 3
   },
   "file_extension": ".py",
   "mimetype": "text/x-python",
   "name": "python",
   "nbconvert_exporter": "python",
   "pygments_lexer": "ipython3",
   "version": "3.8.5"
  },
  "orig_nbformat": 2,
  "kernelspec": {
   "name": "python3",
   "display_name": "Python 3.8.5 64-bit"
  }
 },
 "nbformat": 4,
 "nbformat_minor": 2,
 "cells": [
  {
   "cell_type": "code",
   "execution_count": 6,
   "metadata": {},
   "outputs": [
    {
     "output_type": "stream",
     "name": "stdout",
     "text": [
      "Dataframe size: 1000 baris, 13 kolom.\nprovince_state     object\ncountry_region     object\ndate               object\nlatitude          float64\nlongitude         float64\nlocation_geom      object\nconfirmed           int64\ndeaths            float64\nrecovered         float64\nactive            float64\nfips              float64\nadmin2             object\ncombined_key      float64\ndtype: object\nDataframe missing value: \n province_state      40\ncountry_region       0\ndate                 0\nlatitude           126\nlongitude          126\nlocation_geom      126\nconfirmed            0\ndeaths               1\nrecovered            1\nactive              51\nfips                51\nadmin2             158\ncombined_key      1000\ndtype: int64 \n\nProvince_state unique value:  [nan 'US' 'Guam' 'Iowa']\nProvince state unique value setelah fillna:  ['unknown_province_state' 'US' 'Guam' 'Iowa']\n"
     ]
    }
   ],
   "source": [
    "import pandas as pd \n",
    "\n",
    "df = pd.read_csv(\"https://storage.googleapis.com/dqlab-dataset/CHAPTER%204%20-%20missing%20value%20-%20public%20data%20covid19%20.csv\")\n",
    "\n",
    "print(\"Dataframe size: %d baris, %d kolom.\" % df.shape)\n",
    "print(df.dtypes)\n",
    "print(\"Dataframe missing value: \\n\", df.isna().sum(), \"\\n\")\n",
    "\n",
    "print(\"Province_state unique value: \", df[\"province_state\"].unique())\n",
    "df[\"province_state\"] = df[\"province_state\"].fillna(\"unknown_province_state\")\n",
    "print(\"Province state unique value setelah fillna: \", df[\"province_state\"].unique())"
   ]
  },
  {
   "cell_type": "code",
   "execution_count": 8,
   "metadata": {},
   "outputs": [
    {
     "output_type": "stream",
     "name": "stdout",
     "text": [
      "Latitude unique value:  [ 0.         55.         37.0902     13.4443     41.33577126 42.4704581\n 41.89981633 41.33649833 40.73742757 43.08221074 42.77461496 42.7764426 ]\nLongitude unique value:  [  0.          -3.         -95.7129     144.7937     -91.71725711\n -92.30524729 -90.53275096 -92.1785067  -93.78645949 -96.1767568\n -92.31795937 -94.20722537]\n"
     ]
    }
   ],
   "source": [
    "import pandas as pd\n",
    "\n",
    "df = pd.read_csv(\"https://storage.googleapis.com/dqlab-dataset/CHAPTER%204%20-%20missing%20value%20-%20public%20data%20covid19%20.csv\")\n",
    "\n",
    "df[\"latitude\"] = df[\"latitude\"].fillna(0)\n",
    "df[\"longitude\"] = df[\"longitude\"].fillna(0)\n",
    "print(\"Latitude unique value: \", df[\"latitude\"].unique())\n",
    "print(\"Longitude unique value: \", df[\"longitude\"].unique())"
   ]
  },
  {
   "cell_type": "code",
   "execution_count": null,
   "metadata": {},
   "outputs": [],
   "source": []
  }
 ]
}