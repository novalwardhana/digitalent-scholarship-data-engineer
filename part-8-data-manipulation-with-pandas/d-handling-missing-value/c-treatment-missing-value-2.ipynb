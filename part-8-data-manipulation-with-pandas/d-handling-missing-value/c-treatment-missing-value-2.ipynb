{
 "metadata": {
  "language_info": {
   "codemirror_mode": {
    "name": "ipython",
    "version": 3
   },
   "file_extension": ".py",
   "mimetype": "text/x-python",
   "name": "python",
   "nbconvert_exporter": "python",
   "pygments_lexer": "ipython3",
   "version": "3.8.5"
  },
  "orig_nbformat": 2,
  "kernelspec": {
   "name": "python3",
   "display_name": "Python 3.8.5 64-bit"
  }
 },
 "nbformat": 4,
 "nbformat_minor": 2,
 "cells": [
  {
   "cell_type": "code",
   "execution_count": 16,
   "metadata": {},
   "outputs": [
    {
     "output_type": "stream",
     "name": "stdout",
     "text": [
      "Ukuran awal df: 1000 baris, 13 kolom.\nprovince_state      40\ncountry_region       0\ndate                 0\nlatitude           126\nlongitude          126\nlocation_geom      126\nconfirmed            0\ndeaths               1\nrecovered            1\nactive              51\nfips                51\nadmin2             158\ncombined_key      1000\ndtype: int64 \n\nUkuran setelah di drop column: 1000 baris, 12 kolom. \n\nUkuran setelah di drop baris: 746 baris, 12 kolom.\nprovince_state    0\ncountry_region    0\ndate              0\nlatitude          0\nlongitude         0\nlocation_geom     0\nconfirmed         0\ndeaths            0\nrecovered         0\nactive            0\nfips              0\nadmin2            0\ndtype: int64\n"
     ]
    }
   ],
   "source": [
    "import pandas as pd\n",
    "\n",
    "df = pd.read_csv(\"https://storage.googleapis.com/dqlab-dataset/CHAPTER%204%20-%20missing%20value%20-%20public%20data%20covid19%20.csv\")\n",
    "\n",
    "# Cetak ukuran awal dataframe\n",
    "print(\"Ukuran awal df: %d baris, %d kolom.\" % df.shape)\n",
    "print(df.isna().sum(), \"\\n\")\n",
    "\n",
    "# Drop kolom yang seluruhnya missing value\n",
    "df = df.dropna(axis=1, how=\"all\")\n",
    "print(\"Ukuran setelah di drop column: %d baris, %d kolom.\" % df.shape, \"\\n\")\n",
    "\n",
    "# Drop baris jika ada satu saja data yang missing\n",
    "df = df.dropna(axis=0, how=\"any\")\n",
    "print(\"Ukuran setelah di drop baris: %d baris, %d kolom.\" %df.shape)\n",
    "print(df.isna().sum())"
   ]
  },
  {
   "cell_type": "code",
   "execution_count": 19,
   "metadata": {},
   "outputs": [
    {
     "output_type": "stream",
     "name": "stdout",
     "text": [
      "Dataframe missing value: \n province_state      40\ncountry_region       0\ndate                 0\nlatitude           126\nlongitude          126\nlocation_geom      126\nconfirmed            0\ndeaths               1\nrecovered            1\nactive              51\nfips                51\nadmin2             158\ncombined_key      1000\ndtype: int64 \n\nUkuran setelah di drop baris: 0 baris, 13 kolom. \n\nukuran setelah di drop kolom: 0 baris, 0 kolom.\n"
     ]
    }
   ],
   "source": [
    "import pandas as pd \n",
    "\n",
    "df = pd.read_csv(\"https://storage.googleapis.com/dqlab-dataset/CHAPTER%204%20-%20missing%20value%20-%20public%20data%20covid19%20.csv\")\n",
    "print(\"Dataframe missing value: \\n\", df.isna().sum(), \"\\n\")\n",
    "\n",
    "df = df.dropna(axis=0, how=\"any\")\n",
    "print(\"Ukuran setelah di drop baris: %d baris, %d kolom.\" % df.shape, \"\\n\")\n",
    "\n",
    "df = df.dropna(axis=1, how=\"all\")\n",
    "print(\"ukuran setelah di drop kolom: %d baris, %d kolom.\" % df.shape)"
   ]
  },
  {
   "cell_type": "code",
   "execution_count": null,
   "metadata": {},
   "outputs": [],
   "source": []
  }
 ]
}