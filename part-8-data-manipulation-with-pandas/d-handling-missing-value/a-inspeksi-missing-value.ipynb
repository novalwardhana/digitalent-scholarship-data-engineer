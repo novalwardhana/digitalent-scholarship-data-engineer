{
 "metadata": {
  "language_info": {
   "codemirror_mode": {
    "name": "ipython",
    "version": 3
   },
   "file_extension": ".py",
   "mimetype": "text/x-python",
   "name": "python",
   "nbconvert_exporter": "python",
   "pygments_lexer": "ipython3",
   "version": "3.8.5"
  },
  "orig_nbformat": 2,
  "kernelspec": {
   "name": "python385jvsc74a57bd0916dbcbb3f70747c44a77c7bcd40155683ae19c65e1c03b4aa3499c5328201f1",
   "display_name": "Python 3.8.5 64-bit"
  },
  "metadata": {
   "interpreter": {
    "hash": "916dbcbb3f70747c44a77c7bcd40155683ae19c65e1c03b4aa3499c5328201f1"
   }
  }
 },
 "nbformat": 4,
 "nbformat_minor": 2,
 "cells": [
  {
   "cell_type": "code",
   "execution_count": 4,
   "metadata": {},
   "outputs": [
    {
     "output_type": "stream",
     "name": "stdout",
     "text": [
      "<class 'pandas.core.frame.DataFrame'>\nRangeIndex: 1000 entries, 0 to 999\nData columns (total 13 columns):\n #   Column          Non-Null Count  Dtype  \n---  ------          --------------  -----  \n 0   province_state  960 non-null    object \n 1   country_region  1000 non-null   object \n 2   date            1000 non-null   object \n 3   latitude        874 non-null    float64\n 4   longitude       874 non-null    float64\n 5   location_geom   874 non-null    object \n 6   confirmed       1000 non-null   int64  \n 7   deaths          999 non-null    float64\n 8   recovered       999 non-null    float64\n 9   active          949 non-null    float64\n 10  fips            949 non-null    float64\n 11  admin2          842 non-null    object \n 12  combined_key    0 non-null      float64\ndtypes: float64(7), int64(1), object(5)\nmemory usage: 101.7+ KB\nDataframe info: \n None \n\nDataframe missing value: \n province_state      40\ncountry_region       0\ndate                 0\nlatitude           126\nlongitude          126\nlocation_geom      126\nconfirmed            0\ndeaths               1\nrecovered            1\nactive              51\nfips                51\nadmin2             158\ncombined_key      1000\ndtype: int64\n"
     ]
    }
   ],
   "source": [
    "import pandas as pd\n",
    "\n",
    "df = pd.read_csv(\"https://storage.googleapis.com/dqlab-dataset/CHAPTER%204%20-%20missing%20value%20-%20public%20data%20covid19%20.csv\")\n",
    "\n",
    "# Cetak info dari dataframe\n",
    "print(\"Dataframe info: \\n\", df.info(), \"\\n\")\n",
    "\n",
    "# Cetak jumlah missing value dari masing-masing kolom\n",
    "print(\"Dataframe missing value: \\n\", df.isna().sum())"
   ]
  },
  {
   "cell_type": "code",
   "execution_count": 4,
   "metadata": {},
   "outputs": [
    {
     "output_type": "stream",
     "name": "stdout",
     "text": [
      "Dataframe: \n      order_id  order_date  customer_id  ...    brand quantity item_price\n0     1612339  2019-01-01        18055  ...  BRAND_C        4    1934000\n1     1612339  2019-01-01        18055  ...  BRAND_V        8     604000\n2     1612339  2019-01-01        18055  ...  BRAND_G       12     747000\n3     1612339  2019-01-01        18055  ...  BRAND_B       12     450000\n4     1612339  2019-01-01        18055  ...  BRAND_G        3    1500000\n..        ...         ...          ...  ...      ...      ...        ...\n96    1612390  2019-01-01        12681  ...  BRAND_S       10     450000\n97    1612390  2019-01-01        12681  ...  BRAND_R       18    1045000\n98    1612390  2019-01-01        12681  ...  BRAND_S       24     450000\n99    1612390  2019-01-01        12681  ...  BRAND_S       24     450000\n100   1612390  2019-01-01        12681  ...  BRAND_B        4    1325000\n\n[101 rows x 9 columns] \n\n<class 'pandas.core.frame.DataFrame'>\nRangeIndex: 101 entries, 0 to 100\nData columns (total 9 columns):\n #   Column       Non-Null Count  Dtype \n---  ------       --------------  ----- \n 0   order_id     101 non-null    int64 \n 1   order_date   101 non-null    object\n 2   customer_id  101 non-null    int64 \n 3   city         101 non-null    object\n 4   province     101 non-null    object\n 5   product_id   101 non-null    object\n 6   brand        101 non-null    object\n 7   quantity     101 non-null    int64 \n 8   item_price   101 non-null    int64 \ndtypes: int64(4), object(5)\nmemory usage: 7.2+ KB\nDataframe info: \n None\n"
     ]
    }
   ],
   "source": [
    "import pandas as pd\n",
    "\n",
    "df = pd.read_csv(\"https://storage.googleapis.com/dqlab-dataset/sample_csv.csv\")\n",
    "print(\"Dataframe: \\n\", df, \"\\n\")\n",
    "\n",
    "df_info = df.info()\n",
    "print(\"Dataframe info: \\n\", df_info, \"\\n\")\n",
    "\n",
    "df_mv = df.isna().sum()\n",
    "print(\"Dataframe missing value: \\n\", df_mv)"
   ]
  },
  {
   "cell_type": "code",
   "execution_count": null,
   "metadata": {},
   "outputs": [],
   "source": []
  }
 ]
}