{
 "metadata": {
  "language_info": {
   "codemirror_mode": {
    "name": "ipython",
    "version": 3
   },
   "file_extension": ".py",
   "mimetype": "text/x-python",
   "name": "python",
   "nbconvert_exporter": "python",
   "pygments_lexer": "ipython3",
   "version": "3.8.5"
  },
  "orig_nbformat": 2,
  "kernelspec": {
   "name": "python3",
   "display_name": "Python 3.8.5 64-bit"
  }
 },
 "nbformat": 4,
 "nbformat_minor": 2,
 "cells": [
  {
   "cell_type": "code",
   "execution_count": 14,
   "metadata": {},
   "outputs": [
    {
     "output_type": "stream",
     "name": "stdout",
     "text": [
      "Baris: 1000, Kolom: 13\nIndex(['province_state', 'country_region', 'date', 'latitude', 'longitude',\n       'location_geom', 'confirmed', 'deaths', 'recovered', 'active', 'fips',\n       'admin2', 'combined_key'],\n      dtype='object')\nprovince_state      40\ncountry_region       0\ndate                 0\nlatitude           126\nlongitude          126\nlocation_geom      126\nconfirmed            0\ndeaths               1\nrecovered            1\nactive              51\nfips                51\nadmin2             158\ncombined_key      1000\ndtype: int64\nAwal mean: 192.571128; median: 41.000000.\n\n --------------- \n\nFillna median: mean = 184.841000, median = 41.000000.\nFillna mean: mean = 192.571128, median = 49.000000.\n"
     ]
    }
   ],
   "source": [
    "import pandas as pd\n",
    "\n",
    "df = pd.read_csv(\"https://storage.googleapis.com/dqlab-dataset/CHAPTER%204%20-%20missing%20value%20-%20public%20data%20covid19%20.csv\")\n",
    "\n",
    "print(\"Baris: %d, Kolom: %d\" % df.shape)\n",
    "print(df.columns)\n",
    "print(df.isna().sum())\n",
    "\n",
    "# Cetak nilai mean dan median awal\n",
    "print(\"Awal mean: %f; median: %f.\" % (df[\"active\"].mean(), df[\"active\"].median()))\n",
    "print(\"\\n --------------- \\n\")\n",
    "\n",
    "# Isi kolom missing value di kolom active dengan median\n",
    "df_median = df[\"active\"].fillna(df[\"active\"].median())\n",
    "print(\"Fillna median: mean = %f, median = %f.\" %(df_median.mean(), df_median.median()))\n",
    "\n",
    "# Isi kolom missing value di kolom active dengan mean\n",
    "df_mean = df[\"active\"].fillna(df[\"active\"].mean())\n",
    "print(\"Fillna mean: mean = %f, median = %f.\" %(df_mean.mean(), df_mean.median()))\n",
    "\n",
    "\n"
   ]
  },
  {
   "cell_type": "code",
   "execution_count": 26,
   "metadata": {},
   "outputs": [
    {
     "output_type": "stream",
     "name": "stdout",
     "text": [
      "Dataframe baris 1000, kolom: 12.\nIndex(['province_state', 'country_region', 'date', 'latitude', 'longitude',\n       'location_geom', 'confirmed', 'deaths', 'recovered', 'active', 'fips',\n       'admin2'],\n      dtype='object')\nprovince_state     40\ncountry_region      0\ndate                0\nlatitude          126\nlongitude         126\nlocation_geom     126\nconfirmed           0\ndeaths              1\nrecovered           1\nactive             51\nfips               51\nadmin2            158\ndtype: int64\n\n---------------\n\nDataframe baris: 1000, kolom: 12.\nIndex(['province_state', 'country_region', 'date', 'latitude', 'longitude',\n       'location_geom', 'confirmed', 'deaths', 'recovered', 'active', 'fips',\n       'admin2'],\n      dtype='object')\nprovince_state     40\ncountry_region      0\ndate                0\nlatitude          126\nlongitude         126\nlocation_geom     126\nconfirmed           0\ndeaths              1\nrecovered           1\nactive              0\nfips               51\nadmin2            158\ndtype: int64\nMean: 188.706064, Median: 49.000000.\n"
     ]
    }
   ],
   "source": [
    "import pandas as pd\n",
    "\n",
    "df = pd.read_csv(\"https://storage.googleapis.com/dqlab-dataset/CHAPTER%204%20-%20missing%20value%20-%20public%20data%20covid19%20.csv\")\n",
    "\n",
    "df = df.dropna(axis=1, how=\"all\")\n",
    "print(\"Dataframe baris %d, kolom: %d.\" % df.shape)\n",
    "print(df.columns)\n",
    "print(df.isna().sum())\n",
    "\n",
    "print(\"\\n---------------\\n\")\n",
    "\n",
    "df[\"active\"] = df[\"active\"].fillna((df[\"active\"].mean() + df[\"active\"].median())/2)\n",
    "print(\"Dataframe baris: %d, kolom: %d.\" % df.shape)\n",
    "print(df.columns)\n",
    "print(df.isna().sum())\n",
    "print(\"Mean: %f, Median: %f.\" %(df[\"active\"].mean(), df[\"active\"].median()))"
   ]
  },
  {
   "cell_type": "code",
   "execution_count": null,
   "metadata": {},
   "outputs": [],
   "source": []
  }
 ]
}