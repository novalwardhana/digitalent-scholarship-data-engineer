{
 "metadata": {
  "language_info": {
   "codemirror_mode": {
    "name": "ipython",
    "version": 3
   },
   "file_extension": ".py",
   "mimetype": "text/x-python",
   "name": "python",
   "nbconvert_exporter": "python",
   "pygments_lexer": "ipython3",
   "version": "3.8.5"
  },
  "orig_nbformat": 2,
  "kernelspec": {
   "name": "python3",
   "display_name": "Python 3.8.5 64-bit"
  }
 },
 "nbformat": 4,
 "nbformat_minor": 2,
 "cells": [
  {
   "cell_type": "code",
   "execution_count": 21,
   "metadata": {},
   "outputs": [
    {
     "output_type": "stream",
     "name": "stdout",
     "text": [
      "Dataframe: \n                                     uuid  quantity    price\n0   ff7f4172-c6af-11eb-b8bc-0242ac130003       5.0   1200.0\n1   ff7f4668-c6af-11eb-b8bc-0242ac130003       NaN      NaN\n2   ff7f47ee-c6af-11eb-b8bc-0242ac130003       3.0   5000.0\n3   ff7f48ca-c6af-11eb-b8bc-0242ac130003       2.0   1000.0\n4   ff7f4988-c6af-11eb-b8bc-0242ac130003       1.0  25000.0\n5   ff7f4ab4-c6af-11eb-b8bc-0242ac130003       6.0  35000.0\n6   ff7f4b86-c6af-11eb-b8bc-0242ac130003       9.0   5000.0\n7   ff7f4dc0-c6af-11eb-b8bc-0242ac130003      10.0   2000.0\n8   ff7f4e88-c6af-11eb-b8bc-0242ac130003      11.0   3000.0\n9   ff7f4f46-c6af-11eb-b8bc-0242ac130003       NaN      NaN\n10  90d1a43a-c6b0-11eb-b8bc-0242ac130003      15.0   4500.0\n11  90d1a584-c6b0-11eb-b8bc-0242ac130003      12.0   5000.0\nuuid         string\nquantity    float64\nprice       float64\ndtype: object\n\n --------------- \n\nDataframe new: \n                                     uuid  quantity    price     total\n0   ff7f4172-c6af-11eb-b8bc-0242ac130003       5.0   1200.0    6000.0\n2   ff7f47ee-c6af-11eb-b8bc-0242ac130003       3.0   5000.0   15000.0\n3   ff7f48ca-c6af-11eb-b8bc-0242ac130003       2.0   1000.0    2000.0\n4   ff7f4988-c6af-11eb-b8bc-0242ac130003       1.0  25000.0   25000.0\n5   ff7f4ab4-c6af-11eb-b8bc-0242ac130003       6.0  35000.0  210000.0\n6   ff7f4b86-c6af-11eb-b8bc-0242ac130003       9.0   5000.0   45000.0\n7   ff7f4dc0-c6af-11eb-b8bc-0242ac130003      10.0   2000.0   20000.0\n8   ff7f4e88-c6af-11eb-b8bc-0242ac130003      11.0   3000.0   33000.0\n10  90d1a43a-c6b0-11eb-b8bc-0242ac130003      15.0   4500.0   67500.0\n11  90d1a584-c6b0-11eb-b8bc-0242ac130003      12.0   5000.0   60000.0\nQuantity => mean: 7.400000, median: 7.500000.\nPrice => mean: 8670.000000, median: 4750.000000.\nTotal => mean: 48350.000000, median: 29000.000000.\n"
     ]
    }
   ],
   "source": [
    "import pandas as pd\n",
    "import numpy as np\n",
    "\n",
    "df = pd.DataFrame({\n",
    "    \"uuid\": [\n",
    "        \"ff7f4172-c6af-11eb-b8bc-0242ac130003\",\n",
    "        \"ff7f4668-c6af-11eb-b8bc-0242ac130003\",\n",
    "        \"ff7f47ee-c6af-11eb-b8bc-0242ac130003\",\n",
    "        \"ff7f48ca-c6af-11eb-b8bc-0242ac130003\",\n",
    "        \"ff7f4988-c6af-11eb-b8bc-0242ac130003\",\n",
    "        \"ff7f4ab4-c6af-11eb-b8bc-0242ac130003\",\n",
    "        \"ff7f4b86-c6af-11eb-b8bc-0242ac130003\",\n",
    "        \"ff7f4dc0-c6af-11eb-b8bc-0242ac130003\",\n",
    "        \"ff7f4e88-c6af-11eb-b8bc-0242ac130003\",\n",
    "        \"ff7f4f46-c6af-11eb-b8bc-0242ac130003\",\n",
    "        \"90d1a43a-c6b0-11eb-b8bc-0242ac130003\",\n",
    "        \"90d1a584-c6b0-11eb-b8bc-0242ac130003\"\n",
    "    ],\n",
    "    \"quantity\": [5, np.nan, 3, 2, 1, 6, 9, 10, 11, np.nan, 15, 12],\n",
    "    \"price\": [1200, np.nan, 5000, 1000, 25000, 35000, 5000, 2000, 3000, np.nan, 4500, 5000]\n",
    "})\n",
    "\n",
    "df[\"uuid\"] = df[\"uuid\"].astype(\"string\")\n",
    "print(\"Dataframe: \\n\", df)\n",
    "print(df.dtypes)\n",
    "print(\"\\n --------------- \\n\")\n",
    "\n",
    "cols = [\"quantity\", \"price\"]\n",
    "df = df.dropna(axis=0, how=\"any\")\n",
    "df[\"total\"] = df.apply(lambda x: x[1] * x[2], axis=1)\n",
    "print(\"Dataframe new: \\n\", df)\n",
    "print(\"Quantity => mean: %f, median: %f.\" % (df[\"quantity\"].mean(), df[\"quantity\"].median()))\n",
    "print(\"Price => mean: %f, median: %f.\" %(df[\"price\"].mean(), df[\"price\"].median()))\n",
    "print(\"Total => mean: %f, median: %f.\" % (df[\"total\"].mean(), df[\"total\"].median()))"
   ]
  },
  {
   "cell_type": "code",
   "execution_count": null,
   "metadata": {},
   "outputs": [],
   "source": []
  }
 ]
}