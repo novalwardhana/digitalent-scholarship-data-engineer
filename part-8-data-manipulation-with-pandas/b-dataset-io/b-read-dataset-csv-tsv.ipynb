{
 "metadata": {
  "language_info": {
   "codemirror_mode": {
    "name": "ipython",
    "version": 3
   },
   "file_extension": ".py",
   "mimetype": "text/x-python",
   "name": "python",
   "nbconvert_exporter": "python",
   "pygments_lexer": "ipython3",
   "version": "3.8.5"
  },
  "orig_nbformat": 2,
  "kernelspec": {
   "name": "python3",
   "display_name": "Python 3.8.5 64-bit"
  }
 },
 "nbformat": 4,
 "nbformat_minor": 2,
 "cells": [
  {
   "cell_type": "code",
   "execution_count": 3,
   "metadata": {},
   "outputs": [
    {
     "output_type": "stream",
     "name": "stdout",
     "text": [
      "Dataframe CSV\n",
      "   order_id  order_date  customer_id  ...    brand quantity item_price\n",
      "0   1612339  2019-01-01        18055  ...  BRAND_C        4    1934000\n",
      "1   1612339  2019-01-01        18055  ...  BRAND_V        8     604000\n",
      "2   1612339  2019-01-01        18055  ...  BRAND_G       12     747000\n",
      "3   1612339  2019-01-01        18055  ...  BRAND_B       12     450000\n",
      "4   1612339  2019-01-01        18055  ...  BRAND_G        3    1500000\n",
      "\n",
      "[5 rows x 9 columns] \n",
      "\n",
      "Dataframe TSV\n",
      "   order_id  order_date  customer_id  ...    brand quantity item_price\n",
      "0   1612339  2019-01-01        18055  ...  BRAND_C        4    1934000\n",
      "1   1612339  2019-01-01        18055  ...  BRAND_V        8     604000\n",
      "2   1612339  2019-01-01        18055  ...  BRAND_G       12     747000\n",
      "3   1612339  2019-01-01        18055  ...  BRAND_B       12     450000\n",
      "4   1612339  2019-01-01        18055  ...  BRAND_G        3    1500000\n",
      "\n",
      "[5 rows x 9 columns]\n"
     ]
    }
   ],
   "source": [
    "import pandas as pd\n",
    "\n",
    "# File CSV\n",
    "df_csv = pd.read_csv(\"https://storage.googleapis.com/dqlab-dataset/sample_csv.csv\")\n",
    "print(\"Dataframe CSV\")\n",
    "print(df_csv.head(5), \"\\n\")\n",
    "\n",
    "# File TSV\n",
    "df_tsv = pd.read_csv(\"https://storage.googleapis.com/dqlab-dataset/sample_tsv.tsv\", sep=\"\\t\")\n",
    "print(\"Dataframe TSV\")\n",
    "print(df_tsv.head(5))\n"
   ]
  },
  {
   "cell_type": "code",
   "execution_count": null,
   "metadata": {},
   "outputs": [],
   "source": []
  }
 ]
}