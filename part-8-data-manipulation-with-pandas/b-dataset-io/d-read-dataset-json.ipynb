{
 "metadata": {
  "language_info": {
   "codemirror_mode": {
    "name": "ipython",
    "version": 3
   },
   "file_extension": ".py",
   "mimetype": "text/x-python",
   "name": "python",
   "nbconvert_exporter": "python",
   "pygments_lexer": "ipython3",
   "version": "3.8.5"
  },
  "orig_nbformat": 2,
  "kernelspec": {
   "name": "python3",
   "display_name": "Python 3.8.5 64-bit"
  }
 },
 "nbformat": 4,
 "nbformat_minor": 2,
 "cells": [
  {
   "cell_type": "code",
   "execution_count": 5,
   "metadata": {},
   "outputs": [
    {
     "output_type": "stream",
     "name": "stdout",
     "text": [
      "Dataframe JSON\n                                                data          dt          ts\n0  {'location': 'US', 'confirmed': 3363056, 'deat...  07-14-2020  1594684800\n1  {'location': 'Brazil', 'confirmed': 1884967, '...  07-14-2020  1594684800\n2  {'location': 'India', 'confirmed': 906752, 'de...  07-14-2020  1594684800\n3  {'location': 'Russia', 'confirmed': 732547, 'd...  07-14-2020  1594684800\n4  {'location': 'Peru', 'confirmed': 330123, 'dea...  07-14-2020  1594684800\n5  {'location': 'Chile', 'confirmed': 317657, 'de...  07-14-2020  1594684800\n6  {'location': 'Mexico', 'confirmed': 304435, 'd...  07-14-2020  1594684800\n7  {'location': 'United Kingdom', 'confirmed': 29...  07-14-2020  1594684800\n8  {'location': 'South Africa', 'confirmed': 2877...  07-14-2020  1594684800\n9  {'location': 'Iran', 'confirmed': 259652, 'dea...  07-14-2020  1594684800\n"
     ]
    }
   ],
   "source": [
    "import pandas as pd\n",
    "\n",
    "# File JSON\n",
    "df_json = pd.read_json(\"https://storage.googleapis.com/dqlab-dataset/covid2019-api-herokuapp-v2.json\")\n",
    "print(\"Dataframe JSON\")\n",
    "print(df_json.head(10))\n"
   ]
  },
  {
   "cell_type": "code",
   "execution_count": null,
   "metadata": {},
   "outputs": [],
   "source": []
  }
 ]
}