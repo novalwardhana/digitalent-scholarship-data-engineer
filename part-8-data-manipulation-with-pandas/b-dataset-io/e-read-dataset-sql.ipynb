{
 "metadata": {
  "language_info": {
   "codemirror_mode": {
    "name": "ipython",
    "version": 3
   },
   "file_extension": ".py",
   "mimetype": "text/x-python",
   "name": "python",
   "nbconvert_exporter": "python",
   "pygments_lexer": "ipython3",
   "version": "3.8.5"
  },
  "orig_nbformat": 2,
  "kernelspec": {
   "name": "python385jvsc74a57bd0916dbcbb3f70747c44a77c7bcd40155683ae19c65e1c03b4aa3499c5328201f1",
   "display_name": "Python 3.8.5 64-bit"
  },
  "metadata": {
   "interpreter": {
    "hash": "916dbcbb3f70747c44a77c7bcd40155683ae19c65e1c03b4aa3499c5328201f1"
   }
  }
 },
 "nbformat": 4,
 "nbformat_minor": 2,
 "cells": [
  {
   "cell_type": "code",
   "execution_count": 11,
   "metadata": {},
   "outputs": [
    {
     "output_type": "stream",
     "name": "stdout",
     "text": [
      "Dataframe: \n      loan_id  account_id        date  amount  duration  payments status\n0       4959           2  1994-01-05   80952        24    3373.0      A\n1       4961          19  1996-04-29   30276        12    2523.0      B\n2       4962          25  1997-12-08   30276        12    2523.0      A\n3       4967          37  1998-10-14  318480        60    5308.0      D\n4       4968          38  1998-04-19  110736        48    2307.0      C\n..       ...         ...         ...     ...       ...       ...    ...\n677     7294       11327  1998-09-27   39168        24    1632.0      C\n678     7295       11328  1998-07-18  280440        60    4674.0      C\n679     7304       11349  1995-10-29  419880        60    6998.0      C\n680     7305       11359  1996-08-06   54024        12    4502.0      A\n681     7308       11362  1996-12-27  129408        24    5392.0      A\n\n[682 rows x 7 columns]\n"
     ]
    }
   ],
   "source": [
    "import mysql.connector \n",
    "import pandas as pd \n",
    "\n",
    "my_conn = mysql.connector.connect(\n",
    "    host=\"relational.fit.cvut.cz\",\n",
    "    port=\"3306\",\n",
    "    user=\"guest\",\n",
    "    passwd=\"relational\",\n",
    "    database=\"financial\",\n",
    "    use_pure=True\n",
    ")\n",
    "my_query = \"\"\"\n",
    "SELECT * FROM loan;\n",
    "\"\"\"\n",
    "df_load = pd.read_sql_query(my_query, my_conn)\n",
    "print(\"Dataframe: \\n\", df_load)"
   ]
  },
  {
   "cell_type": "code",
   "execution_count": 10,
   "metadata": {},
   "outputs": [
    {
     "output_type": "stream",
     "name": "stdout",
     "text": [
      "Dataframe: \n    loan_id  account_id        date  amount  duration  payments status\n0     4959           2  1994-01-05   80952        24    3373.0      A\n1     4961          19  1996-04-29   30276        12    2523.0      B\n2     4962          25  1997-12-08   30276        12    2523.0      A\n3     4967          37  1998-10-14  318480        60    5308.0      D\n4     4968          38  1998-04-19  110736        48    2307.0      C\n"
     ]
    }
   ],
   "source": [
    "import mysql.connector\n",
    "import pandas as pd\n",
    "\n",
    "my_conn = mysql.connector.connect(\n",
    "    host=\"relational.fit.cvut.cz\",\n",
    "    port=\"3306\",\n",
    "    user=\"guest\",\n",
    "    passwd=\"relational\",\n",
    "    database=\"financial\",\n",
    "    use_pure=True\n",
    ")\n",
    "mysql_query = \"\"\"\n",
    "SELECT * FROM loan;\n",
    "\"\"\"\n",
    "df_load = pd.read_sql(my_query, my_conn)\n",
    "print(\"Dataframe: \\n\", df_load.head(5))"
   ]
  },
  {
   "cell_type": "code",
   "execution_count": 19,
   "metadata": {},
   "outputs": [
    {
     "output_type": "stream",
     "name": "stdout",
     "text": [
      "Dataframe: \n                                  uuid_trx           date_time  merchant_id  \\\n0    00f699f6-5d42-11eb-9c42-a29f38f177df 2021-01-23 01:12:19           81   \n1    04640302-55c3-11eb-a2d1-1e6e338f8729 2021-01-14 12:15:41           81   \n2    06ec359c-558f-11eb-baf5-c2fd79eab300 2021-01-13 06:03:25           81   \n3    079bf71e-5c8f-11eb-8526-7276dbb122d1 2021-01-22 03:51:06           81   \n4    07b0d0f6-5642-11eb-9419-6acc095c8c75 2021-01-14 03:24:42           81   \n..                                    ...                 ...          ...   \n135  fe2d4510-58a7-11eb-9563-eeab07294440 2021-01-17 04:39:21           81   \n136  fe30d220-57f3-11eb-85ba-e62fc76a739e 2021-01-16 07:10:33           81   \n137  fe6e8246-561d-11eb-9419-6acc095c8c75 2021-01-14 11:06:46           81   \n138  ff50e89a-5823-11eb-85ba-e62fc76a739e 2021-01-17 12:54:41           81   \n139  50e6e2d4-9697-11eb-950c-9676dbbe527e 2021-04-06 12:14:07           80   \n\n    merchant_code               merchant_name sub_merchant_code  issuer_id  \\\n0          244778      PT Angkasa Pura Aviasi                            5   \n1          244778      PT Angkasa Pura Aviasi                            5   \n2          244778      PT Angkasa Pura Aviasi                            5   \n3          244778      PT Angkasa Pura Aviasi                            5   \n4          244778      PT Angkasa Pura Aviasi                            5   \n..            ...                         ...               ...        ...   \n135        244778      PT Angkasa Pura Aviasi                            5   \n136        244778      PT Angkasa Pura Aviasi                            5   \n137        244778      PT Angkasa Pura Aviasi                            5   \n138        244778      PT Angkasa Pura Aviasi                            5   \n139        313110  PT KIRANA PARKIR INDONESIA                            5   \n\n    issuer_code   issuer_name device_code  ...       stored_trx_timestamp  \\\n0       MANDIRI  Bank MANDIRI  DXASLCTPHW  ... 2021-01-23 13:13:00.658223   \n1       MANDIRI  Bank MANDIRI  CNE9172X23  ... 2021-01-14 00:16:23.197401   \n2       MANDIRI  Bank MANDIRI  DXASLCTPHW  ... 2021-01-13 21:27:09.676384   \n3       MANDIRI  Bank MANDIRI  CNE9172X23  ... 2021-01-22 15:51:51.316419   \n4       MANDIRI  Bank MANDIRI  DXASLCTPHW  ... 2021-01-14 15:25:31.709417   \n..          ...           ...         ...  ...                        ...   \n135     MANDIRI  Bank MANDIRI  DXASLCTPHW  ... 2021-01-17 16:40:22.998391   \n136     MANDIRI  Bank MANDIRI  CNE9172X23  ... 2021-01-16 19:12:01.116144   \n137     MANDIRI  Bank MANDIRI  DXASLCTPHW  ... 2021-01-14 11:07:27.732428   \n138     MANDIRI  Bank MANDIRI  CNE9172X23  ... 2021-01-17 00:55:49.748295   \n139     MANDIRI  Bank MANDIRI  AMUEFRB0XK  ... 2021-04-06 12:17:06.951274   \n\n           invoice_number   settle_file_sent_date is_settled  \\\n0    00*04740874379805907 2021-02-24 19:15:47.024      False   \n1    00*49109479554972439 2021-02-24 19:15:47.024      False   \n2    00*43016262185918451 2021-02-24 19:15:47.024      False   \n3    00*75726515349817841 2021-02-24 19:15:47.024      False   \n4    00*75761873158322124 2021-02-24 19:15:47.024      False   \n..                    ...                     ...        ...   \n135  00*29321964361056990 2021-02-24 19:15:47.024      False   \n136  00*17510422155100770 2021-02-24 19:15:47.024      False   \n137  00*53443710898101736 2021-02-24 19:15:47.024      False   \n138  00*59374555560439977 2021-02-24 19:15:47.024      False   \n139  00000001040611131416 2021-05-17 12:22:30.163      False   \n\n                                   additional_info  \\\n0    {'shift_id': '1', 'shift_date': '2021-01-23'}   \n1    {'shift_id': '1', 'shift_date': '2021-01-14'}   \n2    {'shift_id': '1', 'shift_date': '2021-01-13'}   \n3    {'shift_id': '1', 'shift_date': '2021-01-22'}   \n4    {'shift_id': '1', 'shift_date': '2021-01-14'}   \n..                                             ...   \n135  {'shift_id': '1', 'shift_date': '2021-01-17'}   \n136  {'shift_id': '1', 'shift_date': '2021-01-16'}   \n137  {'shift_id': '1', 'shift_date': '2021-01-14'}   \n138  {'shift_id': '1', 'shift_date': '2021-01-17'}   \n139  {'shift_id': '1', 'shift_date': '2021-04-06'}   \n\n                         device_name  nmid merchant_brand_name  \\\n0    Pintu Gerbang Utama - Mobil PK4  None              Aviasi   \n1    Pintu Gerbang Utama - Mobil PK3  None              Aviasi   \n2    Pintu Gerbang Utama - Mobil PK4  None              Aviasi   \n3    Pintu Gerbang Utama - Mobil PK3  None              Aviasi   \n4    Pintu Gerbang Utama - Mobil PK4  None              Aviasi   \n..                               ...   ...                 ...   \n135  Pintu Gerbang Utama - Mobil PK4  None              Aviasi   \n136  Pintu Gerbang Utama - Mobil PK3  None              Aviasi   \n137  Pintu Gerbang Utama - Mobil PK4  None              Aviasi   \n138  Pintu Gerbang Utama - Mobil PK3  None              Aviasi   \n139   Kirana Commercial Avenue - PK2  None              Kirana   \n\n    issuer_ref_number  merchant_ref_number  \n0                None                 None  \n1                None                 None  \n2                None                 None  \n3                None                 None  \n4                None                 None  \n..                ...                  ...  \n135              None                 None  \n136              None                 None  \n137              None                 None  \n138              None                 None  \n139              None                 None  \n\n[140 rows x 49 columns]\nData type: \n uuid_trx                                 object\ndate_time                        datetime64[ns]\nmerchant_id                               int64\nmerchant_code                            object\nmerchant_name                            object\nsub_merchant_code                        object\nissuer_id                                 int64\nissuer_code                              object\nissuer_name                              object\ndevice_code                              object\npayment_channel_id                        int64\npayment_channel_code                     object\npayment_channel_name                     object\npayment_channel_type_code                object\ncustomer_issuer_id                       object\ntrx_status                               object\namount                                  float64\ntid                                      object\nmid                                      object\nbalance_before                          float64\nbalance_after                           float64\ncsn                                      object\ngps_location                             object\nbatch_number                              int64\nsettle_file_generated_status             object\nsettle_file_generated_date       datetime64[ns]\nsettle_file_sent_status                  object\nsettle_file_response_status              object\nsettle_file_response_date        datetime64[ns]\nsettlement_file_uuid                     object\nresponse_file_uuid                       object\ndisburst_status                          object\nmerchant_discount_rate_status            object\nmerchant_discount_rate                  float64\nmerchant_discount_rate_issuer           float64\nfee                                     float64\nfee_issuer                              float64\nis_agregator                               bool\ndata_raw                                 object\nstored_trx_timestamp             datetime64[ns]\ninvoice_number                           object\nsettle_file_sent_date            datetime64[ns]\nis_settled                                 bool\nadditional_info                          object\ndevice_name                              object\nnmid                                     object\nmerchant_brand_name                      object\nissuer_ref_number                        object\nmerchant_ref_number                      object\ndtype: object\nSize:  (140, 49)\nColumns:  Index(['uuid_trx', 'date_time', 'merchant_id', 'merchant_code',\n       'merchant_name', 'sub_merchant_code', 'issuer_id', 'issuer_code',\n       'issuer_name', 'device_code', 'payment_channel_id',\n       'payment_channel_code', 'payment_channel_name',\n       'payment_channel_type_code', 'customer_issuer_id', 'trx_status',\n       'amount', 'tid', 'mid', 'balance_before', 'balance_after', 'csn',\n       'gps_location', 'batch_number', 'settle_file_generated_status',\n       'settle_file_generated_date', 'settle_file_sent_status',\n       'settle_file_response_status', 'settle_file_response_date',\n       'settlement_file_uuid', 'response_file_uuid', 'disburst_status',\n       'merchant_discount_rate_status', 'merchant_discount_rate',\n       'merchant_discount_rate_issuer', 'fee', 'fee_issuer', 'is_agregator',\n       'data_raw', 'stored_trx_timestamp', 'invoice_number',\n       'settle_file_sent_date', 'is_settled', 'additional_info', 'device_name',\n       'nmid', 'merchant_brand_name', 'issuer_ref_number',\n       'merchant_ref_number'],\n      dtype='object')\n"
     ]
    }
   ],
   "source": [
    "import psycopg2\n",
    "import pandas as pd\n",
    "\n",
    "pg_conn = psycopg2.connect(\n",
    "    host=\"localhost\",\n",
    "    port=\"5432\",\n",
    "    user=\"noval\",\n",
    "    password=\"noval\",\n",
    "    database=\"db_transaction_data\"\n",
    ")\n",
    "pg_query = \"\"\"\n",
    "SELECT * FROM trxn.transaction_records\n",
    "\"\"\"\n",
    "\n",
    "df_transaction = pd.read_sql_query(pg_query, pg_conn)\n",
    "print(\"Dataframe: \\n\", df_transaction)\n",
    "print(\"Data type: \\n\", df_transaction.dtypes)\n",
    "print(\"Size: \", df_transaction.shape)\n",
    "print(\"Columns: \", df_transaction.columns)"
   ]
  },
  {
   "cell_type": "code",
   "execution_count": null,
   "metadata": {},
   "outputs": [],
   "source": []
  }
 ]
}