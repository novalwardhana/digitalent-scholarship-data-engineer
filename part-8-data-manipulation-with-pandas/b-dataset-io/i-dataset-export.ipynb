{
 "metadata": {
  "language_info": {
   "codemirror_mode": {
    "name": "ipython",
    "version": 3
   },
   "file_extension": ".py",
   "mimetype": "text/x-python",
   "name": "python",
   "nbconvert_exporter": "python",
   "pygments_lexer": "ipython3",
   "version": "3.8.5"
  },
  "orig_nbformat": 2,
  "kernelspec": {
   "name": "python3",
   "display_name": "Python 3.8.5 64-bit"
  }
 },
 "nbformat": 4,
 "nbformat_minor": 2,
 "cells": [
  {
   "cell_type": "code",
   "execution_count": 22,
   "metadata": {},
   "outputs": [
    {
     "output_type": "stream",
     "name": "stdout",
     "text": [
      "Transaction Mean:  6200.0\nTransaction Median:  5000.0\nTransaction Modus:  0    5000.0\ndtype: float64\nTransaction Q1:  5000.0\nTransaction Q3:  7000.0\nTransaction IQR:  2000.0\n"
     ]
    }
   ],
   "source": [
    "import pandas as pd \n",
    "import psycopg2 as pg\n",
    "\n",
    "pg_conn = pg.connect(\n",
    "    host=\"localhost\",\n",
    "    port=\"5432\",\n",
    "    user=\"noval\",\n",
    "    password=\"noval\",\n",
    "    database=\"db_transaction_data\"\n",
    ")\n",
    "\n",
    "pg_query = \"\"\"\n",
    "SELECT * FROM trxn.transaction_records LIMIT 100\n",
    "\"\"\"\n",
    "\n",
    "df_transaction = pd.read_sql(pg_query, pg_conn)\n",
    "print(\"Transaction Mean: \", df_transaction[\"amount\"].mean())\n",
    "print(\"Transaction Median: \", df_transaction[\"amount\"].median())\n",
    "print(\"Transaction Modus: \", df_transaction[\"amount\"].mode())\n",
    "print(\"Transaction Q1: \", df_transaction[\"amount\"].quantile(0.25))\n",
    "print(\"Transaction Q3: \", df_transaction[\"amount\"].quantile(0.75))\n",
    "print(\"Transaction IQR: \", df_transaction[\"amount\"].quantile(0.75) - df_transaction[\"amount\"].quantile(0.25))\n",
    "\n",
    "# Export transaction to CSV\n",
    "df_transaction.to_csv(\"transaction_csv.csv\", index=False)\n",
    "\n",
    "# Export transaction to TSV\n",
    "df_transaction.to_csv(\"transaction_tsv.tsv\", index=False, sep=\"\\t\")\n",
    "\n",
    "# Export transaction to Excel\n",
    "df_transaction.to_excel(\"transaction_excel.xlsx\", index=False)"
   ]
  },
  {
   "cell_type": "code",
   "execution_count": null,
   "metadata": {},
   "outputs": [],
   "source": []
  }
 ]
}