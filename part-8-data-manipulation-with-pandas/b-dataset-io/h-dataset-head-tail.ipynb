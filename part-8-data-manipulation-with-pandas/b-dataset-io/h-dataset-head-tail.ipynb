{
 "metadata": {
  "language_info": {
   "codemirror_mode": {
    "name": "ipython",
    "version": 3
   },
   "file_extension": ".py",
   "mimetype": "text/x-python",
   "name": "python",
   "nbconvert_exporter": "python",
   "pygments_lexer": "ipython3",
   "version": "3.8.5"
  },
  "orig_nbformat": 2,
  "kernelspec": {
   "name": "python3",
   "display_name": "Python 3.8.5 64-bit"
  }
 },
 "nbformat": 4,
 "nbformat_minor": 2,
 "cells": [
  {
   "cell_type": "code",
   "execution_count": 1,
   "metadata": {},
   "outputs": [
    {
     "output_type": "stream",
     "name": "stdout",
     "text": [
      "Dataframe Top 3: \n    order_id  order_date  customer_id  ...    brand quantity item_price\n0   1612339  2019-01-01        18055  ...  BRAND_C        4    1934000\n1   1612339  2019-01-01        18055  ...  BRAND_V        8     604000\n2   1612339  2019-01-01        18055  ...  BRAND_G       12     747000\n\n[3 rows x 9 columns]\nDataframe low 3: \n      order_id  order_date  customer_id  ...    brand quantity item_price\n98    1612390  2019-01-01        12681  ...  BRAND_S       24     450000\n99    1612390  2019-01-01        12681  ...  BRAND_S       24     450000\n100   1612390  2019-01-01        12681  ...  BRAND_B        4    1325000\n\n[3 rows x 9 columns]\n"
     ]
    }
   ],
   "source": [
    "import pandas as pd\n",
    "\n",
    "df = pd.read_csv(\"https://storage.googleapis.com/dqlab-dataset/sample_csv.csv\")\n",
    "\n",
    "# Tampilkan 3 data teratas\n",
    "print(\"Dataframe Top 3: \\n\", df.head(3))\n",
    "\n",
    "# Tampilkan 3 data terbawah\n",
    "print(\"Dataframe low 3: \\n\", df.tail(3))"
   ]
  },
  {
   "cell_type": "code",
   "execution_count": 10,
   "metadata": {
    "tags": []
   },
   "outputs": [
    {
     "output_type": "stream",
     "name": "stdout",
     "text": [
      "Dataframe Transaction Top 10: \n                                uuid_trx  ... merchant_ref_number\n0  e0c156aa-581c-11eb-85ba-e62fc76a739e  ...                None\n1  4b905720-5975-11eb-b2f3-06c83ee8335e  ...                None\n2  93f6b034-5756-11eb-9563-eeab07294440  ...                None\n3  f4bc19c6-59af-11eb-8a1b-ae64aff2cbc8  ...                None\n4  76bf998e-5753-11eb-9563-eeab07294440  ...                None\n5  2f1f9c80-5b42-11eb-bf48-163a708c4d39  ...                None\n6  d0ce9a3c-5d9e-11eb-b948-ba5988ae908a  ...                None\n7  1ecebc02-535a-11eb-8d7c-66cf522f95fe  ...                None\n8  04640302-55c3-11eb-a2d1-1e6e338f8729  ...                None\n9  4fa24ef4-5a79-11eb-9175-1e4b0c6786a7  ...                None\n\n[10 rows x 49 columns]\nDataframe Transaction Low 10: \n                                  uuid_trx  ... merchant_ref_number\n130  464d90ae-5c93-11eb-8526-7276dbb122d1  ...                None\n131  4736fe88-5333-11eb-85dd-6a9915de7af8  ...                None\n132  47b68f68-5bda-11eb-85d5-2e56be591302  ...                None\n133  2cc309ae-53a4-11eb-9583-0ac72ec0c4c4  ...                None\n134  4c9dcfca-581d-11eb-85ba-e62fc76a739e  ...                None\n135  4d63637a-5bbf-11eb-85d5-2e56be591302  ...                None\n136  29079daa-55ef-11eb-a2d1-1e6e338f8729  ...                None\n137  a8df2de0-555e-11eb-aef3-7e467f5ad3cb  ...                None\n138  0cd366c0-5bc9-11eb-97e8-a218b7125572  ...                None\n139  dd6f8678-55c6-11eb-aef3-7e467f5ad3cb  ...                None\n\n[10 rows x 49 columns]\n"
     ]
    }
   ],
   "source": [
    "import psycopg2 as pg\n",
    "import pandas as pd\n",
    "\n",
    "pg_conn = pg.connect(\n",
    "    host=\"localhost\",\n",
    "    port=\"5432\",\n",
    "    user=\"noval\",\n",
    "    password=\"noval\",\n",
    "    database=\"db_transaction_data\"\n",
    ")\n",
    "\n",
    "pg_query = \"\"\"\n",
    "SELECT * FROM trxn.transaction_records ORDER BY amount DESC\n",
    "\"\"\"\n",
    "\n",
    "df_transaction = pd.read_sql(pg_query, pg_conn)\n",
    "\n",
    "print(\"Dataframe Transaction Top 10: \\n\", df_transaction.head(10))\n",
    "\n",
    "print(\"Dataframe Transaction Low 10: \\n\", df_transaction.tail(10))"
   ]
  },
  {
   "cell_type": "code",
   "execution_count": null,
   "metadata": {},
   "outputs": [],
   "source": []
  }
 ]
}