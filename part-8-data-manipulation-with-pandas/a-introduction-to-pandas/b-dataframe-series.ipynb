{
 "metadata": {
  "language_info": {
   "codemirror_mode": {
    "name": "ipython",
    "version": 3
   },
   "file_extension": ".py",
   "mimetype": "text/x-python",
   "name": "python",
   "nbconvert_exporter": "python",
   "pygments_lexer": "ipython3",
   "version": "3.8.5"
  },
  "orig_nbformat": 2,
  "kernelspec": {
   "name": "python3",
   "display_name": "Python 3.8.5 64-bit"
  }
 },
 "nbformat": 4,
 "nbformat_minor": 2,
 "cells": [
  {
   "cell_type": "code",
   "execution_count": 7,
   "metadata": {},
   "outputs": [
    {
     "output_type": "stream",
     "name": "stdout",
     "text": [
      "Series\n0    1\n1    2\n2    3\n3    4\n4    5\n5    6\ndtype: int64 \n\nDataFrame\n   0  1  2\n0  1  2  3\n1  a  b  c\n2  3  4  5\n3  d  4  6\n"
     ]
    }
   ],
   "source": [
    "import pandas as pd\n",
    "\n",
    "# Series\n",
    "number_list = pd.Series([1,2,3,4,5,6])\n",
    "print(\"Series\")\n",
    "print(number_list, \"\\n\")\n",
    "\n",
    "# DataFrame\n",
    "matrix =[\n",
    "    [1, 2, 3],\n",
    "    ['a', 'b', 'c'],\n",
    "    [3, 4, 5],\n",
    "    ['d', 4, 6]\n",
    "]\n",
    "matrix_list = pd.DataFrame(matrix)\n",
    "print(\"DataFrame\")\n",
    "print(matrix_list)"
   ]
  },
  {
   "cell_type": "code",
   "execution_count": null,
   "metadata": {},
   "outputs": [],
   "source": []
  }
 ]
}