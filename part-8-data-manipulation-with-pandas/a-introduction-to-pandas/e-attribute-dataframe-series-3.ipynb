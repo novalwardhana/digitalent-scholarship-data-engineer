{
 "metadata": {
  "language_info": {
   "codemirror_mode": {
    "name": "ipython",
    "version": 3
   },
   "file_extension": ".py",
   "mimetype": "text/x-python",
   "name": "python",
   "nbconvert_exporter": "python",
   "pygments_lexer": "ipython3",
   "version": "3.8.5"
  },
  "orig_nbformat": 2,
  "kernelspec": {
   "name": "python3",
   "display_name": "Python 3.8.5 64-bit"
  }
 },
 "nbformat": 4,
 "nbformat_minor": 2,
 "cells": [
  {
   "cell_type": "code",
   "execution_count": 20,
   "metadata": {},
   "outputs": [
    {
     "output_type": "stream",
     "name": "stdout",
     "text": [
      "[8] Attribute index\n\t Index number_list:  RangeIndex(start=0, stop=6, step=1)\n\t Index matrix_list:  RangeIndex(start=0, stop=4, step=1) \n\n[9] Attribute columns\n\t Columns matrix_list:  RangeIndex(start=0, stop=3, step=1) \n\n[10] Attribute loc\n\t .loc[0:1] pada number_list:  0    1\n1    2\ndtype: int64\n\t .loc[0:1] pada matrix_list:     0  1  2\n0  1  2  3\n1  a  b  c\n2  3  4  5 \n\n[11] Attribute iloc\n\t .iloc[0:1] pada number_list:  0    1\ndtype: int64\n\t .iloc[0:1] pada matrix_list:     0  1  2\n0  1  2  3\n1  a  b  c\n"
     ]
    }
   ],
   "source": [
    "import pandas as pd\n",
    "\n",
    "# Series\n",
    "number_list = pd.Series([1, 2, 3, 4, 5, 6])\n",
    "\n",
    "# DataFrame\n",
    "matrix_list = pd.DataFrame([\n",
    "    [1, 2, 3],\n",
    "    ['a', 'b', 'c'],\n",
    "    [3, 4, 5],\n",
    "    ['d', 4, 6]\n",
    "])\n",
    "\n",
    "# Attribute .index digunakan untuk mencari index/key dari Series atau Dataframe.\n",
    "print(\"[8] Attribute index\")\n",
    "print(\"\\t Index number_list: \", number_list.index)\n",
    "print(\"\\t Index matrix_list: \", matrix_list.index, \"\\n\")\n",
    "\n",
    "# Attribute .columns digunakan untuk mengetahui apa saja kolom yang tersedia di dataframe tersebut (hanya digunakan untuk dataframe saja).\n",
    "print(\"[9] Attribute columns\")\n",
    "print(\"\\t Columns matrix_list: \", matrix_list.columns, \"\\n\")\n",
    "\n",
    "# Attribute .loc digunakan slice dataframe atau series berdasarkan nama kolom dan/atau nama index.\n",
    "print(\"[10] Attribute loc\")\n",
    "print(\"\\t .loc[0:1] pada number_list: \", number_list.loc[0:1])\n",
    "print(\"\\t .loc[0:1] pada matrix_list: \", matrix_list.loc[0:2], \"\\n\")\n",
    "\n",
    "# Attribute .iloc digunakan untuk slice dataframe atau series berdasarkan index kolom dan/atau index.\n",
    "print(\"[11] Attribute iloc\")\n",
    "print(\"\\t .iloc[0:1] pada number_list: \", number_list.iloc[0:1])\n",
    "print(\"\\t .iloc[0:1] pada matrix_list: \", matrix_list.iloc[0:2])"
   ]
  },
  {
   "cell_type": "code",
   "execution_count": null,
   "metadata": {},
   "outputs": [],
   "source": []
  }
 ]
}