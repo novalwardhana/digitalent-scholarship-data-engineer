{
 "metadata": {
  "language_info": {
   "codemirror_mode": {
    "name": "ipython",
    "version": 3
   },
   "file_extension": ".py",
   "mimetype": "text/x-python",
   "name": "python",
   "nbconvert_exporter": "python",
   "pygments_lexer": "ipython3",
   "version": "3.8.5"
  },
  "orig_nbformat": 2,
  "kernelspec": {
   "name": "python3",
   "display_name": "Python 3.8.5 64-bit"
  }
 },
 "nbformat": 4,
 "nbformat_minor": 2,
 "cells": [
  {
   "cell_type": "code",
   "execution_count": 6,
   "metadata": {},
   "outputs": [
    {
     "output_type": "stream",
     "name": "stdout",
     "text": [
      "Series:  1    a\n2    b\n3    c\ndtype: object \n\nDataframe:     1  2  4\n0  a  b  2\n1  b  c  3\n2  c  d  z \n\nDataframe foods:       Western Oriental   Indo\n1     Burger   Capcay   Sate\n2      Pizza  Tom Yum   Soto\n3  Spaghetti  Onigiri  Pecel\n"
     ]
    }
   ],
   "source": [
    "import pandas as pd\n",
    "\n",
    "# Creating series from dictionary\n",
    "dict_series = {\n",
    "    \"1\": \"a\",\n",
    "    \"2\": \"b\",\n",
    "    \"3\": \"c\"\n",
    "}\n",
    "ex_series = pd.Series(dict_series)\n",
    "print(\"Series: \", ex_series, \"\\n\")\n",
    "\n",
    "# Creating dataframe from dictionary\n",
    "df_series = {\n",
    "    \"1\": [\"a\", \"b\", \"c\"],\n",
    "    \"2\": [\"b\", \"c\", \"d\"],\n",
    "    \"4\": [2, 3, \"z\"]\n",
    "}\n",
    "ex_df = pd.DataFrame(df_series)\n",
    "print(\"Dataframe: \", ex_df, \"\\n\")\n",
    "\n",
    "food_series = {\n",
    "    \"Western\": [\"Burger\", \"Pizza\", \"Spaghetti\"],\n",
    "    \"Oriental\": [\"Capcay\", \"Tom Yum\", \"Onigiri\"],\n",
    "    \"Indo\": [\"Sate\", \"Soto\", \"Pecel\"]\n",
    "}\n",
    "food_index = [1, 2, 3]\n",
    "foods = pd.DataFrame(food_series, index = food_index)\n",
    "print(\"Dataframe foods: \", foods)"
   ]
  },
  {
   "cell_type": "code",
   "execution_count": null,
   "metadata": {},
   "outputs": [],
   "source": []
  }
 ]
}