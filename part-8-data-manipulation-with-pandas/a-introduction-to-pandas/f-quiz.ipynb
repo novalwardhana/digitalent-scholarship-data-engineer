{
 "metadata": {
  "language_info": {
   "codemirror_mode": {
    "name": "ipython",
    "version": 3
   },
   "file_extension": ".py",
   "mimetype": "text/x-python",
   "name": "python",
   "nbconvert_exporter": "python",
   "pygments_lexer": "ipython3",
   "version": "3.8.5"
  },
  "orig_nbformat": 2,
  "kernelspec": {
   "name": "python385jvsc74a57bd0916dbcbb3f70747c44a77c7bcd40155683ae19c65e1c03b4aa3499c5328201f1",
   "display_name": "Python 3.8.5 64-bit"
  },
  "metadata": {
   "interpreter": {
    "hash": "916dbcbb3f70747c44a77c7bcd40155683ae19c65e1c03b4aa3499c5328201f1"
   }
  }
 },
 "nbformat": 4,
 "nbformat_minor": 2,
 "cells": [
  {
   "cell_type": "code",
   "execution_count": 11,
   "metadata": {},
   "outputs": [
    {
     "output_type": "stream",
     "name": "stdout",
     "text": [
      "   0  1  2\n0  1  2  3\n1  a  b  c \n\n[3, 'c'] \n\n[2, 'b', 4] \n\n[1, 'a', 3, 'd']\n"
     ]
    }
   ],
   "source": [
    "import pandas as pd\n",
    "\n",
    "matrix = [[1,2,3],\n",
    "    ['a','b','c'],\n",
    "    [3,4,5],\n",
    "    ['d',4,6]\n",
    "]\n",
    "\n",
    "matrix_list = pd.DataFrame(matrix)\n",
    "print(matrix_list.iloc[0:2], \"\\n\")\n",
    "print(matrix_list.iloc[0:2,2].to_list(), \"\\n\")\n",
    "print(matrix_list.iloc[0:3, 1].to_list(), \"\\n\")\n",
    "print(matrix_list.iloc[0:4, 0].to_list())"
   ]
  },
  {
   "cell_type": "code",
   "execution_count": null,
   "metadata": {},
   "outputs": [],
   "source": []
  }
 ]
}