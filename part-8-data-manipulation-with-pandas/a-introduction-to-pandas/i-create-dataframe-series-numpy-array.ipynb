{
 "metadata": {
  "language_info": {
   "codemirror_mode": {
    "name": "ipython",
    "version": 3
   },
   "file_extension": ".py",
   "mimetype": "text/x-python",
   "name": "python",
   "nbconvert_exporter": "python",
   "pygments_lexer": "ipython3",
   "version": "3.8.5"
  },
  "orig_nbformat": 2,
  "kernelspec": {
   "name": "python3",
   "display_name": "Python 3.8.5 64-bit"
  }
 },
 "nbformat": 4,
 "nbformat_minor": 2,
 "cells": [
  {
   "cell_type": "code",
   "execution_count": 12,
   "metadata": {},
   "outputs": [
    {
     "output_type": "stream",
     "name": "stdout",
     "text": [
      "Series:  0    1\n1    2\n2    3\n3    4\n4    5\n5    6\n6    6\n7    7\ndtype: int64 \n\nSeries 2:     0\n0  1\n1  a\n2  2\n3  b\n4  3\n5  c\n6  4\n7  d\n8  5\n9  e\nDataframe:     0  1  2   3\n0  1  2  3   5\n1  5  6  7   8\n2  a  b  c  10 \n\nDataframe clubs:                     1                  2         3\nEPL        Liverpool  Manchester United   Chelsea\nLa Liga  Real Madrid          Barcelona   Sevilla\nSeri A      AC Milan        Inter Milan  Juventus\n"
     ]
    }
   ],
   "source": [
    "import pandas as pd\n",
    "import numpy as np\n",
    "\n",
    "# Creating series from numpy array (1D)\n",
    "arr_series = np.array([1, 2, 3, 4, 5, 6, 6, 7])\n",
    "ex_series = pd.Series(arr_series)\n",
    "print(\"Series: \", ex_series, \"\\n\")\n",
    "\n",
    "arr_series = np.array([1, \"a\", 2, \"b\", 3, \"c\", 4, \"d\", 5, \"e\"])\n",
    "ex_series = pd.DataFrame(arr_series)\n",
    "print(\"Series 2: \", ex_series)\n",
    "\n",
    "# Creating dataframe from numpy array (2D)\n",
    "arr_df = np.array([\n",
    "    [1, 2, 3, 5],\n",
    "    [5, 6, 7, 8],\n",
    "    [\"a\", \"b\", \"c\", 10]\n",
    "])\n",
    "ex_df = pd.DataFrame(arr_df)\n",
    "print(\"Dataframe: \", ex_df, \"\\n\")\n",
    "\n",
    "arr_df_club = np.array([\n",
    "    [\"Liverpool\", \"Manchester United\", \"Chelsea\"],\n",
    "    [\"Real Madrid\", \"Barcelona\", \"Sevilla\"],\n",
    "    [\"AC Milan\", \"Inter Milan\", \"Juventus\"]\n",
    "])\n",
    "club_index = [\"EPL\", \"La Liga\", \"Seri A\"]\n",
    "club_cols = [1, 2, 3]\n",
    "ex_df_clubs = pd.DataFrame(arr_df_club, index = club_index, columns = club_cols)\n",
    "print(\"Dataframe clubs: \", ex_df_clubs)"
   ]
  },
  {
   "cell_type": "code",
   "execution_count": null,
   "metadata": {},
   "outputs": [],
   "source": []
  }
 ]
}