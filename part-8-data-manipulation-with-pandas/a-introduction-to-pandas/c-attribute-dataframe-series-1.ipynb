{
 "metadata": {
  "language_info": {
   "codemirror_mode": {
    "name": "ipython",
    "version": 3
   },
   "file_extension": ".py",
   "mimetype": "text/x-python",
   "name": "python",
   "nbconvert_exporter": "python",
   "pygments_lexer": "ipython3",
   "version": "3.8.5"
  },
  "orig_nbformat": 2,
  "kernelspec": {
   "name": "python3",
   "display_name": "Python 3.8.5 64-bit"
  }
 },
 "nbformat": 4,
 "nbformat_minor": 2,
 "cells": [
  {
   "cell_type": "code",
   "execution_count": 9,
   "metadata": {},
   "outputs": [
    {
     "output_type": "stream",
     "name": "stdout",
     "text": [
      "[1] Attribute info\n<class 'pandas.core.frame.DataFrame'>\nRangeIndex: 4 entries, 0 to 3\nData columns (total 3 columns):\n #   Column  Non-Null Count  Dtype \n---  ------  --------------  ----- \n 0   0       4 non-null      object\n 1   1       4 non-null      object\n 2   2       4 non-null      object\ndtypes: object(3)\nmemory usage: 224.0+ bytes\nNone \n\n[2] Attribute shape\n\t Shape dari number_list:  (6,)\n\t Shape dari matrix_list:  (4, 3) \n\n[3] Attribute dtypes\n\t Tipe data number_list:  int64\n\t Tipe data matrix_list:  0    object\n1    object\n2    object\ndtype: object \n\n[4] Attribute astype\n\t Konversi number_list ke str:  0    1\n1    2\n2    3\n3    4\n4    5\n5    6\ndtype: object\n\t Konversi matrix_list ke str:     0  1  2\n0  1  2  3\n1  a  b  c\n2  3  4  5\n3  d  4  6\n"
     ]
    }
   ],
   "source": [
    "import pandas as pd\n",
    "\n",
    "# Series\n",
    "number_list = pd.Series([1, 2, 3, 4, 5, 6])\n",
    "\n",
    "# DataFrame\n",
    "matrix_list = pd.DataFrame([\n",
    "    [1, 2, 3],\n",
    "    ['a', 'b', 'c'],\n",
    "    [3, 4, 5],\n",
    "    ['d', 4, 6]\n",
    "])\n",
    "\n",
    "# Attribute .info() digunakan untuk mengecek kolom apa yang membentuk dataframe itu, data types, berapa yang non null, dll. Attribute ini tidak dapat digunakan pada series, hanya pada data frame saja.\n",
    "print(\"[1] Attribute info\")\n",
    "print(matrix_list.info(), \"\\n\")\n",
    "\n",
    "# Attribute .shape digunakan untuk mengetahui berapa baris dan kolom, hasilnya dalam format tuple (baris, kolom).\n",
    "print(\"[2] Attribute shape\")\n",
    "print(\"\\t Shape dari number_list: \", number_list.shape)\n",
    "print(\"\\t Shape dari matrix_list: \", matrix_list.shape, \"\\n\")\n",
    "\n",
    "# Attribute .dtypes digunakan untuk mengetahui tipe data di tiap kolom. Tipe data object: kombinasi untuk berbagai tipe data (number & text, etc).\n",
    "print(\"[3] Attribute dtypes\")\n",
    "print(\"\\t Tipe data number_list: \", number_list.dtypes)\n",
    "print(\"\\t Tipe data matrix_list: \", matrix_list.dtypes, \"\\n\")\n",
    "\n",
    "# Attribute .astype(nama_tipe_data) untuk convert tipe data berdasarkan tipe data seperti: float, int, str, numpy.float, numpy.int ataupun numpy.datetime.\n",
    "print(\"[4] Attribute astype\")\n",
    "print(\"\\t Konversi number_list ke str: \", number_list.astype(\"str\"))\n",
    "print(\"\\t Konversi matrix_list ke str: \", matrix_list.astype(\"str\"))\n"
   ]
  },
  {
   "cell_type": "code",
   "execution_count": null,
   "metadata": {},
   "outputs": [],
   "source": []
  }
 ]
}