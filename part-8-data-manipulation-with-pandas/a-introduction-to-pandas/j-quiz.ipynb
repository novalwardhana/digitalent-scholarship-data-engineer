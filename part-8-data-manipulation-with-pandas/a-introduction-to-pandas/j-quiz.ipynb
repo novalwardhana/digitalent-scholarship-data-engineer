{
 "metadata": {
  "language_info": {
   "codemirror_mode": {
    "name": "ipython",
    "version": 3
   },
   "file_extension": ".py",
   "mimetype": "text/x-python",
   "name": "python",
   "nbconvert_exporter": "python",
   "pygments_lexer": "ipython3",
   "version": "3.8.5"
  },
  "orig_nbformat": 2,
  "kernelspec": {
   "name": "python385jvsc74a57bd0916dbcbb3f70747c44a77c7bcd40155683ae19c65e1c03b4aa3499c5328201f1",
   "display_name": "Python 3.8.5 64-bit"
  },
  "metadata": {
   "interpreter": {
    "hash": "916dbcbb3f70747c44a77c7bcd40155683ae19c65e1c03b4aa3499c5328201f1"
   }
  }
 },
 "nbformat": 4,
 "nbformat_minor": 2,
 "cells": [
  {
   "cell_type": "code",
   "execution_count": 15,
   "metadata": {},
   "outputs": [
    {
     "output_type": "stream",
     "name": "stdout",
     "text": [
      "Dataframe before:     0  1  2   3\n0  1  2  3   5\n1  5  6  7   8\n2  a  b  9  10 \n\nDataframe after:      0   1  2   3\n0   1   2  3   5\n1   5   6  7   8\n2  11  12  9  10\n"
     ]
    }
   ],
   "source": [
    "import pandas as pd\n",
    "import numpy as np\n",
    "\n",
    "arr_df = np.array([\n",
    "    [1, 2, 3, 5],\n",
    "    [5, 6, 7, 8],\n",
    "    ['a', 'b', 9, 10]\n",
    "])\n",
    "\n",
    "df = pd.DataFrame(arr_df)\n",
    "print(\"Dataframe before: \", df, \"\\n\")\n",
    "\n",
    "df.iloc[2,0:2] = [11, 12]\n",
    "print(\"Dataframe after: \", df)"
   ]
  },
  {
   "cell_type": "code",
   "execution_count": null,
   "metadata": {},
   "outputs": [],
   "source": []
  }
 ]
}