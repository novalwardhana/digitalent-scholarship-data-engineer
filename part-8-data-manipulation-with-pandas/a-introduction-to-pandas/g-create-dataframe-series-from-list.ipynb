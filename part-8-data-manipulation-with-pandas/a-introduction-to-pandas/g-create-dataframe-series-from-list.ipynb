{
 "metadata": {
  "language_info": {
   "codemirror_mode": {
    "name": "ipython",
    "version": 3
   },
   "file_extension": ".py",
   "mimetype": "text/x-python",
   "name": "python",
   "nbconvert_exporter": "python",
   "pygments_lexer": "ipython3",
   "version": "3.8.5"
  },
  "orig_nbformat": 2,
  "kernelspec": {
   "name": "python385jvsc74a57bd0916dbcbb3f70747c44a77c7bcd40155683ae19c65e1c03b4aa3499c5328201f1",
   "display_name": "Python 3.8.5 64-bit"
  },
  "metadata": {
   "interpreter": {
    "hash": "916dbcbb3f70747c44a77c7bcd40155683ae19c65e1c03b4aa3499c5328201f1"
   }
  }
 },
 "nbformat": 4,
 "nbformat_minor": 2,
 "cells": [
  {
   "cell_type": "code",
   "execution_count": 17,
   "metadata": {},
   "outputs": [
    {
     "output_type": "stream",
     "name": "stdout",
     "text": [
      "Series: 0    a\n1    1\n2    3\n3    5\n4    c\n5    d\ndtype: object \n\nDataframe:       float char obj char\ndq     1.0    a   b    c\nlab    2.5    d   e    f\nkar    5.0    g   h    i\nlan    7.5    j  10    l \n\nClubs:                   EPL          La Liga       Seri A\n1    Manchester City  Atletico Madrid  Inter Milan\n2  Manchester United      Real Madrid     AC Milan\n3          Liverpool        Barcelona     Juventus\n"
     ]
    }
   ],
   "source": [
    "import pandas as pd\n",
    "\n",
    "# Creating series from list\n",
    "ex_list = ['a', 1, 3, 5, 'c', 'd']\n",
    "ex_series = pd.Series(ex_list)\n",
    "print(\"Series:\", ex_series, \"\\n\")\n",
    "\n",
    "# Creating dataframe from list of list\n",
    "ex_list_of_list = [\n",
    "    [1, 'a', 'b', 'c'],\n",
    "    [2.5, 'd', 'e', 'f'],\n",
    "    [5, 'g', 'h', 'i'],\n",
    "    [7.5, 'j', 10, 'l']\n",
    "]\n",
    "index = ['dq', 'lab', 'kar', 'lan']\n",
    "cols = ['float', 'char', 'obj', 'char']\n",
    "ex_df = pd.DataFrame(ex_list_of_list, index = index, columns = cols)\n",
    "print(\"Dataframe: \", ex_df, \"\\n\")\n",
    "\n",
    "club_list = [\n",
    "    [\"Manchester City\", \"Atletico Madrid\", \"Inter Milan\"],\n",
    "    [\"Manchester United\", \"Real Madrid\", \"AC Milan\"],\n",
    "    [\"Liverpool\", \"Barcelona\", \"Juventus\"]\n",
    "]\n",
    "klasemen = [1, 2, 3]\n",
    "league = [\"EPL\", \"La Liga\", \"Seri A\"]\n",
    "clubs = pd.DataFrame(club_list, columns = league, index = klasemen)\n",
    "print(\"Clubs: \", clubs)"
   ]
  },
  {
   "cell_type": "code",
   "execution_count": null,
   "metadata": {},
   "outputs": [],
   "source": []
  }
 ]
}