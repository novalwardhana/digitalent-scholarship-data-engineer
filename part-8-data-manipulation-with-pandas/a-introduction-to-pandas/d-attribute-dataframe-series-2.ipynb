{
 "metadata": {
  "language_info": {
   "codemirror_mode": {
    "name": "ipython",
    "version": 3
   },
   "file_extension": ".py",
   "mimetype": "text/x-python",
   "name": "python",
   "nbconvert_exporter": "python",
   "pygments_lexer": "ipython3",
   "version": "3.8.5"
  },
  "orig_nbformat": 2,
  "kernelspec": {
   "name": "python3",
   "display_name": "Python 3.8.5 64-bit"
  }
 },
 "nbformat": 4,
 "nbformat_minor": 2,
 "cells": [
  {
   "cell_type": "code",
   "execution_count": 5,
   "metadata": {},
   "outputs": [
    {
     "output_type": "stream",
     "name": "stdout",
     "text": [
      "[5] Attribute copy\n\t Copy number_list ke num_list:  0    1\n1    2\n2    3\n3    4\n4    5\n5    6\ndtype: int64\n\t Copy matrix_list ke mtr_list:     0  1  2\n0  1  2  3\n1  a  b  c\n2  3  4  5\n3  d  4  6 \n\n[6] Attribute to_list\n\t number_list to list:  [1, 2, 3, 4, 5, 6] \n\n[7] Atrribute unique\n\t number_list unique:  [1 2 3 4 5 6]\n"
     ]
    }
   ],
   "source": [
    "import pandas as pd\n",
    "\n",
    "# Series\n",
    "number_list = pd.Series([1, 2, 3, 4, 5, 6])\n",
    "\n",
    "# DataFrame\n",
    "matrix_list = pd.DataFrame([\n",
    "    [1, 2, 3],\n",
    "    ['a', 'b', 'c'],\n",
    "    [3, 4, 5],\n",
    "    ['d', 4, 6]\n",
    "])\n",
    "\n",
    "#Attribute .copy() digunakan melakukan duplikat, untuk disimpan di variable yang berbeda mungkin supaya tidak\n",
    "print(\"[5] Attribute copy\")\n",
    "num_list = number_list.copy()\n",
    "mtr_list = matrix_list.copy()\n",
    "print(\"\\t Copy number_list ke num_list: \", num_list)\n",
    "print(\"\\t Copy matrix_list ke mtr_list: \", mtr_list, \"\\n\")\n",
    "\n",
    "# Attribute .to_list() digunakan untuk mengubah series menjadi list dan tidak dapat digunakan untuk dataframe.\n",
    "print(\"[6] Attribute to_list\")\n",
    "print(\"\\t number_list to list: \", number_list.to_list(), \"\\n\")\n",
    "\n",
    "# Attribute .unique() digunakan menghasilkan nilai unik dari suatu kolom, hasilnya dalam bentuk numpy array. Attribute ini hanya digunakan pada series saja.\n",
    "print(\"[7] Atrribute unique\")\n",
    "print(\"\\t number_list unique: \", number_list.unique())\n",
    "\n"
   ]
  },
  {
   "cell_type": "code",
   "execution_count": null,
   "metadata": {},
   "outputs": [],
   "source": []
  }
 ]
}